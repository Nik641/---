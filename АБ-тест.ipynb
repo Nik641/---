{
 "cells": [
  {
   "cell_type": "markdown",
   "metadata": {},
   "source": [
    "# A/B-тест для интернет магазина\n",
    "\n",
    "**Целью** работы является проанализировать результаты A/B-теста.\n",
    "\n",
    "**Задачи**:\n",
    "\n",
    "- приоритизируйте гипотезы;\n",
    "- запустите A/B-тест;\n",
    "- проанализировать результаты."
   ]
  },
  {
   "cell_type": "markdown",
   "metadata": {},
   "source": [
    "# Часть 1. Приоритизация гипотез.\n",
    "\n",
    "\n",
    "## Задача\n",
    "\n",
    "### Примените фреймворк ICE для приоритизации гипотез. Отсортируйте их по убыванию приоритета.\n",
    "\n",
    "### Примените фреймворк RICE для приоритизации гипотез. Отсортируйте их по убыванию приоритета.\n",
    "\n",
    "### Укажите, как изменилась приоритизация гипотез при применении RICE вместо ICE. Объясните, почему так произошло."
   ]
  },
  {
   "cell_type": "markdown",
   "metadata": {},
   "source": [
    "Данные для первой части\n",
    "\n",
    "- Hypothesis — краткое описание гипотезы;\n",
    "\n",
    "- Reach — охват пользователей по 10-балльной шкале;\n",
    "\n",
    "- Impact — влияние на пользователей по 10-балльной шкале;\n",
    "\n",
    "- Confidence — уверенность в гипотезе по 10-балльной шкале;\n",
    "\n",
    "- Efforts — затраты ресурсов на проверку гипотезы по 10-балльной шкале. Чем больше значение Efforts, тем дороже проверка гипотезы."
   ]
  },
  {
   "cell_type": "code",
   "execution_count": 1,
   "metadata": {},
   "outputs": [],
   "source": [
    "import pandas as pd\n",
    "import datetime as dt\n",
    "import numpy as np\n",
    "import matplotlib.pyplot as plt\n",
    "from pandas.plotting import register_matplotlib_converters\n",
    "import warnings\n",
    "import scipy.stats as stats"
   ]
  },
  {
   "cell_type": "code",
   "execution_count": 2,
   "metadata": {},
   "outputs": [
    {
     "data": {
      "text/html": [
       "<div>\n",
       "<style scoped>\n",
       "    .dataframe tbody tr th:only-of-type {\n",
       "        vertical-align: middle;\n",
       "    }\n",
       "\n",
       "    .dataframe tbody tr th {\n",
       "        vertical-align: top;\n",
       "    }\n",
       "\n",
       "    .dataframe thead th {\n",
       "        text-align: right;\n",
       "    }\n",
       "</style>\n",
       "<table border=\"1\" class=\"dataframe\">\n",
       "  <thead>\n",
       "    <tr style=\"text-align: right;\">\n",
       "      <th></th>\n",
       "      <th>Hypothesis</th>\n",
       "      <th>Reach</th>\n",
       "      <th>Impact</th>\n",
       "      <th>Confidence</th>\n",
       "      <th>Efforts</th>\n",
       "    </tr>\n",
       "  </thead>\n",
       "  <tbody>\n",
       "    <tr>\n",
       "      <th>0</th>\n",
       "      <td>Добавить два новых канала привлечения трафика, что позволит привлекать на 30% больше пользователей</td>\n",
       "      <td>3</td>\n",
       "      <td>10</td>\n",
       "      <td>8</td>\n",
       "      <td>6</td>\n",
       "    </tr>\n",
       "    <tr>\n",
       "      <th>1</th>\n",
       "      <td>Запустить собственную службу доставки, что сократит срок доставки заказов</td>\n",
       "      <td>2</td>\n",
       "      <td>5</td>\n",
       "      <td>4</td>\n",
       "      <td>10</td>\n",
       "    </tr>\n",
       "    <tr>\n",
       "      <th>2</th>\n",
       "      <td>Добавить блоки рекомендаций товаров на сайт интернет магазина, чтобы повысить конверсию и средний чек заказа</td>\n",
       "      <td>8</td>\n",
       "      <td>3</td>\n",
       "      <td>7</td>\n",
       "      <td>3</td>\n",
       "    </tr>\n",
       "    <tr>\n",
       "      <th>3</th>\n",
       "      <td>Изменить структура категорий, что увеличит конверсию, т.к. пользователи быстрее найдут нужный товар</td>\n",
       "      <td>8</td>\n",
       "      <td>3</td>\n",
       "      <td>3</td>\n",
       "      <td>8</td>\n",
       "    </tr>\n",
       "    <tr>\n",
       "      <th>4</th>\n",
       "      <td>Изменить цвет фона главной страницы, чтобы увеличить вовлеченность пользователей</td>\n",
       "      <td>3</td>\n",
       "      <td>1</td>\n",
       "      <td>1</td>\n",
       "      <td>1</td>\n",
       "    </tr>\n",
       "    <tr>\n",
       "      <th>5</th>\n",
       "      <td>Добавить страницу отзывов клиентов о магазине, что позволит увеличить количество заказов</td>\n",
       "      <td>3</td>\n",
       "      <td>2</td>\n",
       "      <td>2</td>\n",
       "      <td>3</td>\n",
       "    </tr>\n",
       "    <tr>\n",
       "      <th>6</th>\n",
       "      <td>Показать на главной странице баннеры с актуальными акциями и распродажами, чтобы увеличить конверсию</td>\n",
       "      <td>5</td>\n",
       "      <td>3</td>\n",
       "      <td>8</td>\n",
       "      <td>3</td>\n",
       "    </tr>\n",
       "    <tr>\n",
       "      <th>7</th>\n",
       "      <td>Добавить форму подписки на все основные страницы, чтобы собрать базу клиентов для email-рассылок</td>\n",
       "      <td>10</td>\n",
       "      <td>7</td>\n",
       "      <td>8</td>\n",
       "      <td>5</td>\n",
       "    </tr>\n",
       "    <tr>\n",
       "      <th>8</th>\n",
       "      <td>Запустить акцию, дающую скидку на товар в день рождения</td>\n",
       "      <td>1</td>\n",
       "      <td>9</td>\n",
       "      <td>9</td>\n",
       "      <td>5</td>\n",
       "    </tr>\n",
       "  </tbody>\n",
       "</table>\n",
       "</div>"
      ],
      "text/plain": [
       "                                                                                                     Hypothesis  \\\n",
       "0            Добавить два новых канала привлечения трафика, что позволит привлекать на 30% больше пользователей   \n",
       "1                                     Запустить собственную службу доставки, что сократит срок доставки заказов   \n",
       "2  Добавить блоки рекомендаций товаров на сайт интернет магазина, чтобы повысить конверсию и средний чек заказа   \n",
       "3           Изменить структура категорий, что увеличит конверсию, т.к. пользователи быстрее найдут нужный товар   \n",
       "4                              Изменить цвет фона главной страницы, чтобы увеличить вовлеченность пользователей   \n",
       "5                      Добавить страницу отзывов клиентов о магазине, что позволит увеличить количество заказов   \n",
       "6          Показать на главной странице баннеры с актуальными акциями и распродажами, чтобы увеличить конверсию   \n",
       "7              Добавить форму подписки на все основные страницы, чтобы собрать базу клиентов для email-рассылок   \n",
       "8                                                       Запустить акцию, дающую скидку на товар в день рождения   \n",
       "\n",
       "   Reach  Impact  Confidence  Efforts  \n",
       "0      3      10           8        6  \n",
       "1      2       5           4       10  \n",
       "2      8       3           7        3  \n",
       "3      8       3           3        8  \n",
       "4      3       1           1        1  \n",
       "5      3       2           2        3  \n",
       "6      5       3           8        3  \n",
       "7     10       7           8        5  \n",
       "8      1       9           9        5  "
      ]
     },
     "execution_count": 2,
     "metadata": {},
     "output_type": "execute_result"
    }
   ],
   "source": [
    "data = pd.read_csv('/datasets/hypothesis.csv')\n",
    "pd.set_option('max_colwidth', 200)\n",
    "data"
   ]
  },
  {
   "cell_type": "markdown",
   "metadata": {},
   "source": [
    "**Примените фреймворк ICE для приоритизации гипотез. Отсортируйте их по убыванию приоритета.**"
   ]
  },
  {
   "cell_type": "code",
   "execution_count": 3,
   "metadata": {},
   "outputs": [
    {
     "data": {
      "text/html": [
       "<div>\n",
       "<style scoped>\n",
       "    .dataframe tbody tr th:only-of-type {\n",
       "        vertical-align: middle;\n",
       "    }\n",
       "\n",
       "    .dataframe tbody tr th {\n",
       "        vertical-align: top;\n",
       "    }\n",
       "\n",
       "    .dataframe thead th {\n",
       "        text-align: right;\n",
       "    }\n",
       "</style>\n",
       "<table border=\"1\" class=\"dataframe\">\n",
       "  <thead>\n",
       "    <tr style=\"text-align: right;\">\n",
       "      <th></th>\n",
       "      <th>Hypothesis</th>\n",
       "      <th>Reach</th>\n",
       "      <th>Impact</th>\n",
       "      <th>Confidence</th>\n",
       "      <th>Efforts</th>\n",
       "      <th>ICE</th>\n",
       "    </tr>\n",
       "  </thead>\n",
       "  <tbody>\n",
       "    <tr>\n",
       "      <th>8</th>\n",
       "      <td>Запустить акцию, дающую скидку на товар в день рождения</td>\n",
       "      <td>1</td>\n",
       "      <td>9</td>\n",
       "      <td>9</td>\n",
       "      <td>5</td>\n",
       "      <td>16.20</td>\n",
       "    </tr>\n",
       "    <tr>\n",
       "      <th>0</th>\n",
       "      <td>Добавить два новых канала привлечения трафика, что позволит привлекать на 30% больше пользователей</td>\n",
       "      <td>3</td>\n",
       "      <td>10</td>\n",
       "      <td>8</td>\n",
       "      <td>6</td>\n",
       "      <td>13.33</td>\n",
       "    </tr>\n",
       "    <tr>\n",
       "      <th>7</th>\n",
       "      <td>Добавить форму подписки на все основные страницы, чтобы собрать базу клиентов для email-рассылок</td>\n",
       "      <td>10</td>\n",
       "      <td>7</td>\n",
       "      <td>8</td>\n",
       "      <td>5</td>\n",
       "      <td>11.20</td>\n",
       "    </tr>\n",
       "    <tr>\n",
       "      <th>6</th>\n",
       "      <td>Показать на главной странице баннеры с актуальными акциями и распродажами, чтобы увеличить конверсию</td>\n",
       "      <td>5</td>\n",
       "      <td>3</td>\n",
       "      <td>8</td>\n",
       "      <td>3</td>\n",
       "      <td>8.00</td>\n",
       "    </tr>\n",
       "    <tr>\n",
       "      <th>2</th>\n",
       "      <td>Добавить блоки рекомендаций товаров на сайт интернет магазина, чтобы повысить конверсию и средний чек заказа</td>\n",
       "      <td>8</td>\n",
       "      <td>3</td>\n",
       "      <td>7</td>\n",
       "      <td>3</td>\n",
       "      <td>7.00</td>\n",
       "    </tr>\n",
       "    <tr>\n",
       "      <th>1</th>\n",
       "      <td>Запустить собственную службу доставки, что сократит срок доставки заказов</td>\n",
       "      <td>2</td>\n",
       "      <td>5</td>\n",
       "      <td>4</td>\n",
       "      <td>10</td>\n",
       "      <td>2.00</td>\n",
       "    </tr>\n",
       "    <tr>\n",
       "      <th>5</th>\n",
       "      <td>Добавить страницу отзывов клиентов о магазине, что позволит увеличить количество заказов</td>\n",
       "      <td>3</td>\n",
       "      <td>2</td>\n",
       "      <td>2</td>\n",
       "      <td>3</td>\n",
       "      <td>1.33</td>\n",
       "    </tr>\n",
       "    <tr>\n",
       "      <th>3</th>\n",
       "      <td>Изменить структура категорий, что увеличит конверсию, т.к. пользователи быстрее найдут нужный товар</td>\n",
       "      <td>8</td>\n",
       "      <td>3</td>\n",
       "      <td>3</td>\n",
       "      <td>8</td>\n",
       "      <td>1.12</td>\n",
       "    </tr>\n",
       "    <tr>\n",
       "      <th>4</th>\n",
       "      <td>Изменить цвет фона главной страницы, чтобы увеличить вовлеченность пользователей</td>\n",
       "      <td>3</td>\n",
       "      <td>1</td>\n",
       "      <td>1</td>\n",
       "      <td>1</td>\n",
       "      <td>1.00</td>\n",
       "    </tr>\n",
       "  </tbody>\n",
       "</table>\n",
       "</div>"
      ],
      "text/plain": [
       "                                                                                                     Hypothesis  \\\n",
       "8                                                       Запустить акцию, дающую скидку на товар в день рождения   \n",
       "0            Добавить два новых канала привлечения трафика, что позволит привлекать на 30% больше пользователей   \n",
       "7              Добавить форму подписки на все основные страницы, чтобы собрать базу клиентов для email-рассылок   \n",
       "6          Показать на главной странице баннеры с актуальными акциями и распродажами, чтобы увеличить конверсию   \n",
       "2  Добавить блоки рекомендаций товаров на сайт интернет магазина, чтобы повысить конверсию и средний чек заказа   \n",
       "1                                     Запустить собственную службу доставки, что сократит срок доставки заказов   \n",
       "5                      Добавить страницу отзывов клиентов о магазине, что позволит увеличить количество заказов   \n",
       "3           Изменить структура категорий, что увеличит конверсию, т.к. пользователи быстрее найдут нужный товар   \n",
       "4                              Изменить цвет фона главной страницы, чтобы увеличить вовлеченность пользователей   \n",
       "\n",
       "   Reach  Impact  Confidence  Efforts    ICE  \n",
       "8      1       9           9        5  16.20  \n",
       "0      3      10           8        6  13.33  \n",
       "7     10       7           8        5  11.20  \n",
       "6      5       3           8        3   8.00  \n",
       "2      8       3           7        3   7.00  \n",
       "1      2       5           4       10   2.00  \n",
       "5      3       2           2        3   1.33  \n",
       "3      8       3           3        8   1.12  \n",
       "4      3       1           1        1   1.00  "
      ]
     },
     "execution_count": 3,
     "metadata": {},
     "output_type": "execute_result"
    }
   ],
   "source": [
    "data['ICE'] = round(data.Impact * data.Confidence / data.Efforts, 2)\n",
    "data.sort_values(by='ICE', ascending=False)"
   ]
  },
  {
   "cell_type": "markdown",
   "metadata": {},
   "source": [
    "**Примените фреймворк RICE для приоритизации гипотез. Отсортируйте их по убыванию приоритета.**\n"
   ]
  },
  {
   "cell_type": "code",
   "execution_count": 4,
   "metadata": {},
   "outputs": [
    {
     "data": {
      "text/html": [
       "<div>\n",
       "<style scoped>\n",
       "    .dataframe tbody tr th:only-of-type {\n",
       "        vertical-align: middle;\n",
       "    }\n",
       "\n",
       "    .dataframe tbody tr th {\n",
       "        vertical-align: top;\n",
       "    }\n",
       "\n",
       "    .dataframe thead th {\n",
       "        text-align: right;\n",
       "    }\n",
       "</style>\n",
       "<table border=\"1\" class=\"dataframe\">\n",
       "  <thead>\n",
       "    <tr style=\"text-align: right;\">\n",
       "      <th></th>\n",
       "      <th>Hypothesis</th>\n",
       "      <th>Reach</th>\n",
       "      <th>Impact</th>\n",
       "      <th>Confidence</th>\n",
       "      <th>Efforts</th>\n",
       "      <th>ICE</th>\n",
       "      <th>RICE</th>\n",
       "    </tr>\n",
       "  </thead>\n",
       "  <tbody>\n",
       "    <tr>\n",
       "      <th>7</th>\n",
       "      <td>Добавить форму подписки на все основные страницы, чтобы собрать базу клиентов для email-рассылок</td>\n",
       "      <td>10</td>\n",
       "      <td>7</td>\n",
       "      <td>8</td>\n",
       "      <td>5</td>\n",
       "      <td>11.20</td>\n",
       "      <td>112.0</td>\n",
       "    </tr>\n",
       "    <tr>\n",
       "      <th>2</th>\n",
       "      <td>Добавить блоки рекомендаций товаров на сайт интернет магазина, чтобы повысить конверсию и средний чек заказа</td>\n",
       "      <td>8</td>\n",
       "      <td>3</td>\n",
       "      <td>7</td>\n",
       "      <td>3</td>\n",
       "      <td>7.00</td>\n",
       "      <td>56.0</td>\n",
       "    </tr>\n",
       "    <tr>\n",
       "      <th>0</th>\n",
       "      <td>Добавить два новых канала привлечения трафика, что позволит привлекать на 30% больше пользователей</td>\n",
       "      <td>3</td>\n",
       "      <td>10</td>\n",
       "      <td>8</td>\n",
       "      <td>6</td>\n",
       "      <td>13.33</td>\n",
       "      <td>40.0</td>\n",
       "    </tr>\n",
       "    <tr>\n",
       "      <th>6</th>\n",
       "      <td>Показать на главной странице баннеры с актуальными акциями и распродажами, чтобы увеличить конверсию</td>\n",
       "      <td>5</td>\n",
       "      <td>3</td>\n",
       "      <td>8</td>\n",
       "      <td>3</td>\n",
       "      <td>8.00</td>\n",
       "      <td>40.0</td>\n",
       "    </tr>\n",
       "    <tr>\n",
       "      <th>8</th>\n",
       "      <td>Запустить акцию, дающую скидку на товар в день рождения</td>\n",
       "      <td>1</td>\n",
       "      <td>9</td>\n",
       "      <td>9</td>\n",
       "      <td>5</td>\n",
       "      <td>16.20</td>\n",
       "      <td>16.2</td>\n",
       "    </tr>\n",
       "    <tr>\n",
       "      <th>3</th>\n",
       "      <td>Изменить структура категорий, что увеличит конверсию, т.к. пользователи быстрее найдут нужный товар</td>\n",
       "      <td>8</td>\n",
       "      <td>3</td>\n",
       "      <td>3</td>\n",
       "      <td>8</td>\n",
       "      <td>1.12</td>\n",
       "      <td>9.0</td>\n",
       "    </tr>\n",
       "    <tr>\n",
       "      <th>1</th>\n",
       "      <td>Запустить собственную службу доставки, что сократит срок доставки заказов</td>\n",
       "      <td>2</td>\n",
       "      <td>5</td>\n",
       "      <td>4</td>\n",
       "      <td>10</td>\n",
       "      <td>2.00</td>\n",
       "      <td>4.0</td>\n",
       "    </tr>\n",
       "    <tr>\n",
       "      <th>5</th>\n",
       "      <td>Добавить страницу отзывов клиентов о магазине, что позволит увеличить количество заказов</td>\n",
       "      <td>3</td>\n",
       "      <td>2</td>\n",
       "      <td>2</td>\n",
       "      <td>3</td>\n",
       "      <td>1.33</td>\n",
       "      <td>4.0</td>\n",
       "    </tr>\n",
       "    <tr>\n",
       "      <th>4</th>\n",
       "      <td>Изменить цвет фона главной страницы, чтобы увеличить вовлеченность пользователей</td>\n",
       "      <td>3</td>\n",
       "      <td>1</td>\n",
       "      <td>1</td>\n",
       "      <td>1</td>\n",
       "      <td>1.00</td>\n",
       "      <td>3.0</td>\n",
       "    </tr>\n",
       "  </tbody>\n",
       "</table>\n",
       "</div>"
      ],
      "text/plain": [
       "                                                                                                     Hypothesis  \\\n",
       "7              Добавить форму подписки на все основные страницы, чтобы собрать базу клиентов для email-рассылок   \n",
       "2  Добавить блоки рекомендаций товаров на сайт интернет магазина, чтобы повысить конверсию и средний чек заказа   \n",
       "0            Добавить два новых канала привлечения трафика, что позволит привлекать на 30% больше пользователей   \n",
       "6          Показать на главной странице баннеры с актуальными акциями и распродажами, чтобы увеличить конверсию   \n",
       "8                                                       Запустить акцию, дающую скидку на товар в день рождения   \n",
       "3           Изменить структура категорий, что увеличит конверсию, т.к. пользователи быстрее найдут нужный товар   \n",
       "1                                     Запустить собственную службу доставки, что сократит срок доставки заказов   \n",
       "5                      Добавить страницу отзывов клиентов о магазине, что позволит увеличить количество заказов   \n",
       "4                              Изменить цвет фона главной страницы, чтобы увеличить вовлеченность пользователей   \n",
       "\n",
       "   Reach  Impact  Confidence  Efforts    ICE   RICE  \n",
       "7     10       7           8        5  11.20  112.0  \n",
       "2      8       3           7        3   7.00   56.0  \n",
       "0      3      10           8        6  13.33   40.0  \n",
       "6      5       3           8        3   8.00   40.0  \n",
       "8      1       9           9        5  16.20   16.2  \n",
       "3      8       3           3        8   1.12    9.0  \n",
       "1      2       5           4       10   2.00    4.0  \n",
       "5      3       2           2        3   1.33    4.0  \n",
       "4      3       1           1        1   1.00    3.0  "
      ]
     },
     "execution_count": 4,
     "metadata": {},
     "output_type": "execute_result"
    }
   ],
   "source": [
    "data['RICE'] = (data.Reach * data.Impact * data.Confidence) / data.Efforts\n",
    "data.sort_values(by='RICE', ascending=False)"
   ]
  },
  {
   "cell_type": "markdown",
   "metadata": {},
   "source": [
    "**Укажите, как изменилась приоритизация гипотез при применении RICE вместо ICE. Объясните, почему так произошло.**\n",
    "\n",
    "Приоритизация гипотез изменилась, так как включился параметр охвата аудитории, и где охват наибольший, он стал первым.Таким образом, больше людей попадет под тестирование. Первой гипотезой следует проверить следующую гипотезу: \"Добавить форму подписки на все основные страницы, чтобы собрать базу клиентов для email-рассылок\"."
   ]
  },
  {
   "cell_type": "markdown",
   "metadata": {},
   "source": [
    "# Часть 2. Анализ A/B-теста"
   ]
  },
  {
   "cell_type": "markdown",
   "metadata": {},
   "source": [
    "Я провел A/B-тест и получил результаты, которые описаны в файлах orders.csv и visitors.csv.\n",
    "\n",
    "**Задача**\n",
    "\n",
    "Проанализируйте A/B-тест:\n",
    "\n",
    "- Постройте график кумулятивной выручки по группам. Сделайте выводы и предположения.\n",
    "\n",
    "- Постройте график кумулятивного среднего чека по группам. Сделайте выводы и предположения.\n",
    "\n",
    "- Постройте график относительного изменения кумулятивного среднего чека группы B к группе A. Сделайте выводы и предположения.\n",
    "\n",
    "- Постройте график кумулятивного среднего количества заказов на посетителя по группам. Сделайте выводы и предположения.\n",
    "\n",
    "- Постройте график относительного изменения кумулятивного среднего количества заказов на посетителя группы B к группе A. Сделайте выводы и предположения.\n",
    "\n",
    "- Постройте точечный график количества заказов по пользователям.\n",
    "\n",
    "- Посчитайте 95-й и 99-й перцентили количества заказов на пользователя. Выберите границу для определения аномальных пользователей.\n",
    "\n",
    "- Постройте точечный график стоимостей заказов.\n",
    "\n",
    "- Посчитайте 95-й и 99-й перцентили стоимости заказов. Выберите границу для определения аномальных заказов.\n",
    "\n",
    "- Посчитайте статистическую значимость различий в среднем количестве заказов на посетителя между группами по «сырым» данным.\n",
    "\n",
    "Сделайте выводы и предположения.\n",
    "\n",
    "Посчитайте статистическую значимость различий в среднем чеке заказа между группами по «сырым» данным. \n",
    "\n",
    "Посчитайте статистическую значимость различий в среднем количестве заказов на посетителя между группами по «очищенным» данным. \n",
    "\n",
    "Посчитайте статистическую значимость различий в среднем чеке заказа между группами по «очищенным» данным. \n",
    "\n",
    "**Примите решение** по результатам теста и объясните его. Варианты решений:\n",
    "\n",
    "1. Остановить тест, зафиксировать победу одной из групп.\n",
    "\n",
    "2. Остановить тест, зафиксировать отсутствие различий между группами.\n",
    "\n",
    "3. Продолжить тест."
   ]
  },
  {
   "cell_type": "code",
   "execution_count": 5,
   "metadata": {},
   "outputs": [
    {
     "data": {
      "text/html": [
       "<div>\n",
       "<style scoped>\n",
       "    .dataframe tbody tr th:only-of-type {\n",
       "        vertical-align: middle;\n",
       "    }\n",
       "\n",
       "    .dataframe tbody tr th {\n",
       "        vertical-align: top;\n",
       "    }\n",
       "\n",
       "    .dataframe thead th {\n",
       "        text-align: right;\n",
       "    }\n",
       "</style>\n",
       "<table border=\"1\" class=\"dataframe\">\n",
       "  <thead>\n",
       "    <tr style=\"text-align: right;\">\n",
       "      <th></th>\n",
       "      <th>transaction_id</th>\n",
       "      <th>visitor_id</th>\n",
       "      <th>date</th>\n",
       "      <th>revenue</th>\n",
       "      <th>group</th>\n",
       "    </tr>\n",
       "  </thead>\n",
       "  <tbody>\n",
       "    <tr>\n",
       "      <th>98</th>\n",
       "      <td>1962247337</td>\n",
       "      <td>2706377257</td>\n",
       "      <td>2019-08-01</td>\n",
       "      <td>7129</td>\n",
       "      <td>A</td>\n",
       "    </tr>\n",
       "    <tr>\n",
       "      <th>65</th>\n",
       "      <td>2321477056</td>\n",
       "      <td>2868887864</td>\n",
       "      <td>2019-08-16</td>\n",
       "      <td>1710</td>\n",
       "      <td>B</td>\n",
       "    </tr>\n",
       "    <tr>\n",
       "      <th>326</th>\n",
       "      <td>4185696070</td>\n",
       "      <td>235366767</td>\n",
       "      <td>2019-08-28</td>\n",
       "      <td>780</td>\n",
       "      <td>A</td>\n",
       "    </tr>\n",
       "    <tr>\n",
       "      <th>411</th>\n",
       "      <td>1696190144</td>\n",
       "      <td>1687240555</td>\n",
       "      <td>2019-08-06</td>\n",
       "      <td>24744</td>\n",
       "      <td>B</td>\n",
       "    </tr>\n",
       "    <tr>\n",
       "      <th>654</th>\n",
       "      <td>2178722073</td>\n",
       "      <td>816783716</td>\n",
       "      <td>2019-08-07</td>\n",
       "      <td>34550</td>\n",
       "      <td>B</td>\n",
       "    </tr>\n",
       "    <tr>\n",
       "      <th>493</th>\n",
       "      <td>128480032</td>\n",
       "      <td>3504688413</td>\n",
       "      <td>2019-08-26</td>\n",
       "      <td>8585</td>\n",
       "      <td>A</td>\n",
       "    </tr>\n",
       "    <tr>\n",
       "      <th>181</th>\n",
       "      <td>1532499979</td>\n",
       "      <td>2617784228</td>\n",
       "      <td>2019-08-23</td>\n",
       "      <td>3468</td>\n",
       "      <td>B</td>\n",
       "    </tr>\n",
       "    <tr>\n",
       "      <th>995</th>\n",
       "      <td>3465107905</td>\n",
       "      <td>2075883701</td>\n",
       "      <td>2019-08-31</td>\n",
       "      <td>2610</td>\n",
       "      <td>B</td>\n",
       "    </tr>\n",
       "    <tr>\n",
       "      <th>1060</th>\n",
       "      <td>2518195580</td>\n",
       "      <td>4163850406</td>\n",
       "      <td>2019-08-11</td>\n",
       "      <td>8950</td>\n",
       "      <td>A</td>\n",
       "    </tr>\n",
       "    <tr>\n",
       "      <th>1002</th>\n",
       "      <td>3143229464</td>\n",
       "      <td>282188993</td>\n",
       "      <td>2019-08-08</td>\n",
       "      <td>1120</td>\n",
       "      <td>B</td>\n",
       "    </tr>\n",
       "  </tbody>\n",
       "</table>\n",
       "</div>"
      ],
      "text/plain": [
       "      transaction_id  visitor_id        date  revenue group\n",
       "98        1962247337  2706377257  2019-08-01     7129     A\n",
       "65        2321477056  2868887864  2019-08-16     1710     B\n",
       "326       4185696070   235366767  2019-08-28      780     A\n",
       "411       1696190144  1687240555  2019-08-06    24744     B\n",
       "654       2178722073   816783716  2019-08-07    34550     B\n",
       "493        128480032  3504688413  2019-08-26     8585     A\n",
       "181       1532499979  2617784228  2019-08-23     3468     B\n",
       "995       3465107905  2075883701  2019-08-31     2610     B\n",
       "1060      2518195580  4163850406  2019-08-11     8950     A\n",
       "1002      3143229464   282188993  2019-08-08     1120     B"
      ]
     },
     "execution_count": 5,
     "metadata": {},
     "output_type": "execute_result"
    }
   ],
   "source": [
    "orders = pd.read_csv('/datasets/orders.csv')\n",
    "orders = orders.rename(columns={'transactionId':'transaction_id', 'visitorId':'visitor_id'})\n",
    "orders.sample(10)"
   ]
  },
  {
   "cell_type": "code",
   "execution_count": 6,
   "metadata": {},
   "outputs": [
    {
     "name": "stdout",
     "output_type": "stream",
     "text": [
      "<class 'pandas.core.frame.DataFrame'>\n",
      "RangeIndex: 1197 entries, 0 to 1196\n",
      "Data columns (total 5 columns):\n",
      " #   Column          Non-Null Count  Dtype \n",
      "---  ------          --------------  ----- \n",
      " 0   transaction_id  1197 non-null   int64 \n",
      " 1   visitor_id      1197 non-null   int64 \n",
      " 2   date            1197 non-null   object\n",
      " 3   revenue         1197 non-null   int64 \n",
      " 4   group           1197 non-null   object\n",
      "dtypes: int64(3), object(2)\n",
      "memory usage: 46.9+ KB\n"
     ]
    }
   ],
   "source": [
    "orders.info()"
   ]
  },
  {
   "cell_type": "code",
   "execution_count": 7,
   "metadata": {},
   "outputs": [
    {
     "name": "stdout",
     "output_type": "stream",
     "text": [
      "Количество дубликатов: 0\n"
     ]
    }
   ],
   "source": [
    "orders['date'] = orders['date'].map(\n",
    "    lambda x: dt.datetime.strptime(x, '%Y-%m-%d')\n",
    ")\n",
    "print('Количество дубликатов:',orders.duplicated().sum())"
   ]
  },
  {
   "cell_type": "code",
   "execution_count": 8,
   "metadata": {},
   "outputs": [
    {
     "data": {
      "text/html": [
       "<div>\n",
       "<style scoped>\n",
       "    .dataframe tbody tr th:only-of-type {\n",
       "        vertical-align: middle;\n",
       "    }\n",
       "\n",
       "    .dataframe tbody tr th {\n",
       "        vertical-align: top;\n",
       "    }\n",
       "\n",
       "    .dataframe thead th {\n",
       "        text-align: right;\n",
       "    }\n",
       "</style>\n",
       "<table border=\"1\" class=\"dataframe\">\n",
       "  <thead>\n",
       "    <tr style=\"text-align: right;\">\n",
       "      <th></th>\n",
       "      <th>date</th>\n",
       "      <th>group</th>\n",
       "      <th>visitors</th>\n",
       "    </tr>\n",
       "  </thead>\n",
       "  <tbody>\n",
       "    <tr>\n",
       "      <th>21</th>\n",
       "      <td>2019-08-22</td>\n",
       "      <td>A</td>\n",
       "      <td>609</td>\n",
       "    </tr>\n",
       "    <tr>\n",
       "      <th>50</th>\n",
       "      <td>2019-08-20</td>\n",
       "      <td>B</td>\n",
       "      <td>560</td>\n",
       "    </tr>\n",
       "    <tr>\n",
       "      <th>2</th>\n",
       "      <td>2019-08-03</td>\n",
       "      <td>A</td>\n",
       "      <td>507</td>\n",
       "    </tr>\n",
       "    <tr>\n",
       "      <th>20</th>\n",
       "      <td>2019-08-21</td>\n",
       "      <td>A</td>\n",
       "      <td>646</td>\n",
       "    </tr>\n",
       "    <tr>\n",
       "      <th>4</th>\n",
       "      <td>2019-08-05</td>\n",
       "      <td>A</td>\n",
       "      <td>756</td>\n",
       "    </tr>\n",
       "    <tr>\n",
       "      <th>45</th>\n",
       "      <td>2019-08-15</td>\n",
       "      <td>B</td>\n",
       "      <td>544</td>\n",
       "    </tr>\n",
       "    <tr>\n",
       "      <th>59</th>\n",
       "      <td>2019-08-29</td>\n",
       "      <td>B</td>\n",
       "      <td>531</td>\n",
       "    </tr>\n",
       "    <tr>\n",
       "      <th>61</th>\n",
       "      <td>2019-08-31</td>\n",
       "      <td>B</td>\n",
       "      <td>718</td>\n",
       "    </tr>\n",
       "    <tr>\n",
       "      <th>13</th>\n",
       "      <td>2019-08-14</td>\n",
       "      <td>A</td>\n",
       "      <td>735</td>\n",
       "    </tr>\n",
       "    <tr>\n",
       "      <th>31</th>\n",
       "      <td>2019-08-01</td>\n",
       "      <td>B</td>\n",
       "      <td>713</td>\n",
       "    </tr>\n",
       "  </tbody>\n",
       "</table>\n",
       "</div>"
      ],
      "text/plain": [
       "          date group  visitors\n",
       "21  2019-08-22     A       609\n",
       "50  2019-08-20     B       560\n",
       "2   2019-08-03     A       507\n",
       "20  2019-08-21     A       646\n",
       "4   2019-08-05     A       756\n",
       "45  2019-08-15     B       544\n",
       "59  2019-08-29     B       531\n",
       "61  2019-08-31     B       718\n",
       "13  2019-08-14     A       735\n",
       "31  2019-08-01     B       713"
      ]
     },
     "execution_count": 8,
     "metadata": {},
     "output_type": "execute_result"
    }
   ],
   "source": [
    "visitors = pd.read_csv('/datasets/visitors.csv')\n",
    "visitors.sample(10)"
   ]
  },
  {
   "cell_type": "code",
   "execution_count": 9,
   "metadata": {},
   "outputs": [
    {
     "name": "stdout",
     "output_type": "stream",
     "text": [
      "<class 'pandas.core.frame.DataFrame'>\n",
      "RangeIndex: 62 entries, 0 to 61\n",
      "Data columns (total 3 columns):\n",
      " #   Column    Non-Null Count  Dtype \n",
      "---  ------    --------------  ----- \n",
      " 0   date      62 non-null     object\n",
      " 1   group     62 non-null     object\n",
      " 2   visitors  62 non-null     int64 \n",
      "dtypes: int64(1), object(2)\n",
      "memory usage: 1.6+ KB\n"
     ]
    }
   ],
   "source": [
    "visitors.info()"
   ]
  },
  {
   "cell_type": "code",
   "execution_count": 10,
   "metadata": {},
   "outputs": [
    {
     "name": "stdout",
     "output_type": "stream",
     "text": [
      "Количество дубликатов: 0\n"
     ]
    }
   ],
   "source": [
    "visitors['date'] = visitors['date'].map(\n",
    "    lambda x: dt.datetime.strptime(x, '%Y-%m-%d')\n",
    ")\n",
    "print('Количество дубликатов:',visitors.duplicated().sum())"
   ]
  },
  {
   "cell_type": "code",
   "execution_count": 11,
   "metadata": {},
   "outputs": [
    {
     "name": "stdout",
     "output_type": "stream",
     "text": [
      "<class 'pandas.core.frame.DataFrame'>\n",
      "RangeIndex: 62 entries, 0 to 61\n",
      "Data columns (total 3 columns):\n",
      " #   Column    Non-Null Count  Dtype         \n",
      "---  ------    --------------  -----         \n",
      " 0   date      62 non-null     datetime64[ns]\n",
      " 1   group     62 non-null     object        \n",
      " 2   visitors  62 non-null     int64         \n",
      "dtypes: datetime64[ns](1), int64(1), object(1)\n",
      "memory usage: 1.6+ KB\n"
     ]
    }
   ],
   "source": [
    "visitors.info()"
   ]
  },
  {
   "cell_type": "markdown",
   "metadata": {},
   "source": [
    "**Постройте график кумулятивной выручки по группам.**"
   ]
  },
  {
   "cell_type": "code",
   "execution_count": 12,
   "metadata": {},
   "outputs": [],
   "source": [
    "datesGroups = orders[['date', 'group']].drop_duplicates()\n",
    "\n",
    "ordersAggregated = datesGroups.apply(\n",
    "    lambda x: orders[\n",
    "        np.logical_and(\n",
    "            orders['date'] <= x['date'], orders['group'] == x['group']\n",
    "        )\n",
    "    ].agg(\n",
    "        {\n",
    "            'date': 'max',\n",
    "            'group': 'max',\n",
    "            'transaction_id': 'nunique',\n",
    "            'visitor_id': 'nunique',\n",
    "            'revenue': 'sum',\n",
    "        }\n",
    "    ),\n",
    "    axis=1,\n",
    ").sort_values(by=['date', 'group'])"
   ]
  },
  {
   "cell_type": "code",
   "execution_count": 13,
   "metadata": {},
   "outputs": [],
   "source": [
    "visitorsAggregated = datesGroups.apply(\n",
    "    lambda x: visitors[\n",
    "        np.logical_and(\n",
    "            visitors['date'] <= x['date'], visitors['group'] == x['group']\n",
    "        )\n",
    "    ].agg({'date': 'max', 'group': 'max', 'visitors': 'sum'}),\n",
    "    axis=1,\n",
    ").sort_values(by=['date', 'group'])\n"
   ]
  },
  {
   "cell_type": "code",
   "execution_count": 14,
   "metadata": {},
   "outputs": [
    {
     "data": {
      "text/html": [
       "<div>\n",
       "<style scoped>\n",
       "    .dataframe tbody tr th:only-of-type {\n",
       "        vertical-align: middle;\n",
       "    }\n",
       "\n",
       "    .dataframe tbody tr th {\n",
       "        vertical-align: top;\n",
       "    }\n",
       "\n",
       "    .dataframe thead th {\n",
       "        text-align: right;\n",
       "    }\n",
       "</style>\n",
       "<table border=\"1\" class=\"dataframe\">\n",
       "  <thead>\n",
       "    <tr style=\"text-align: right;\">\n",
       "      <th></th>\n",
       "      <th>date</th>\n",
       "      <th>group</th>\n",
       "      <th>orders</th>\n",
       "      <th>buyers</th>\n",
       "      <th>revenue</th>\n",
       "      <th>visitors</th>\n",
       "    </tr>\n",
       "  </thead>\n",
       "  <tbody>\n",
       "    <tr>\n",
       "      <th>0</th>\n",
       "      <td>2019-08-01</td>\n",
       "      <td>A</td>\n",
       "      <td>24</td>\n",
       "      <td>20</td>\n",
       "      <td>148579</td>\n",
       "      <td>719</td>\n",
       "    </tr>\n",
       "    <tr>\n",
       "      <th>1</th>\n",
       "      <td>2019-08-01</td>\n",
       "      <td>B</td>\n",
       "      <td>21</td>\n",
       "      <td>20</td>\n",
       "      <td>101217</td>\n",
       "      <td>713</td>\n",
       "    </tr>\n",
       "    <tr>\n",
       "      <th>2</th>\n",
       "      <td>2019-08-02</td>\n",
       "      <td>A</td>\n",
       "      <td>44</td>\n",
       "      <td>38</td>\n",
       "      <td>242401</td>\n",
       "      <td>1338</td>\n",
       "    </tr>\n",
       "    <tr>\n",
       "      <th>3</th>\n",
       "      <td>2019-08-02</td>\n",
       "      <td>B</td>\n",
       "      <td>45</td>\n",
       "      <td>43</td>\n",
       "      <td>266748</td>\n",
       "      <td>1294</td>\n",
       "    </tr>\n",
       "    <tr>\n",
       "      <th>4</th>\n",
       "      <td>2019-08-03</td>\n",
       "      <td>A</td>\n",
       "      <td>68</td>\n",
       "      <td>62</td>\n",
       "      <td>354874</td>\n",
       "      <td>1845</td>\n",
       "    </tr>\n",
       "    <tr>\n",
       "      <th>...</th>\n",
       "      <td>...</td>\n",
       "      <td>...</td>\n",
       "      <td>...</td>\n",
       "      <td>...</td>\n",
       "      <td>...</td>\n",
       "      <td>...</td>\n",
       "    </tr>\n",
       "    <tr>\n",
       "      <th>57</th>\n",
       "      <td>2019-08-29</td>\n",
       "      <td>B</td>\n",
       "      <td>596</td>\n",
       "      <td>544</td>\n",
       "      <td>5559398</td>\n",
       "      <td>17708</td>\n",
       "    </tr>\n",
       "    <tr>\n",
       "      <th>58</th>\n",
       "      <td>2019-08-30</td>\n",
       "      <td>A</td>\n",
       "      <td>545</td>\n",
       "      <td>493</td>\n",
       "      <td>4022970</td>\n",
       "      <td>18037</td>\n",
       "    </tr>\n",
       "    <tr>\n",
       "      <th>59</th>\n",
       "      <td>2019-08-30</td>\n",
       "      <td>B</td>\n",
       "      <td>620</td>\n",
       "      <td>567</td>\n",
       "      <td>5774631</td>\n",
       "      <td>18198</td>\n",
       "    </tr>\n",
       "    <tr>\n",
       "      <th>60</th>\n",
       "      <td>2019-08-31</td>\n",
       "      <td>A</td>\n",
       "      <td>557</td>\n",
       "      <td>503</td>\n",
       "      <td>4084803</td>\n",
       "      <td>18736</td>\n",
       "    </tr>\n",
       "    <tr>\n",
       "      <th>61</th>\n",
       "      <td>2019-08-31</td>\n",
       "      <td>B</td>\n",
       "      <td>640</td>\n",
       "      <td>586</td>\n",
       "      <td>5907760</td>\n",
       "      <td>18916</td>\n",
       "    </tr>\n",
       "  </tbody>\n",
       "</table>\n",
       "<p>62 rows × 6 columns</p>\n",
       "</div>"
      ],
      "text/plain": [
       "         date group  orders  buyers  revenue  visitors\n",
       "0  2019-08-01     A      24      20   148579       719\n",
       "1  2019-08-01     B      21      20   101217       713\n",
       "2  2019-08-02     A      44      38   242401      1338\n",
       "3  2019-08-02     B      45      43   266748      1294\n",
       "4  2019-08-03     A      68      62   354874      1845\n",
       "..        ...   ...     ...     ...      ...       ...\n",
       "57 2019-08-29     B     596     544  5559398     17708\n",
       "58 2019-08-30     A     545     493  4022970     18037\n",
       "59 2019-08-30     B     620     567  5774631     18198\n",
       "60 2019-08-31     A     557     503  4084803     18736\n",
       "61 2019-08-31     B     640     586  5907760     18916\n",
       "\n",
       "[62 rows x 6 columns]"
      ]
     },
     "execution_count": 14,
     "metadata": {},
     "output_type": "execute_result"
    }
   ],
   "source": [
    "cumulativeData = ordersAggregated.merge(\n",
    "    visitorsAggregated, left_on=['date', 'group'], right_on=['date', 'group']\n",
    ")\n",
    "cumulativeData.columns = [\n",
    "    'date',\n",
    "    'group',\n",
    "    'orders',\n",
    "    'buyers',\n",
    "    'revenue',\n",
    "    'visitors',\n",
    "]\n",
    "cumulativeData"
   ]
  },
  {
   "cell_type": "code",
   "execution_count": 15,
   "metadata": {},
   "outputs": [
    {
     "data": {
      "image/png": "[encoded data removed]",
      "text/plain": [
       "<Figure size 720x288 with 1 Axes>"
      ]
     },
     "metadata": {
      "needs_background": "light"
     },
     "output_type": "display_data"
    }
   ],
   "source": [
    "# датафрейм с кумулятивным количеством заказов и кумулятивной выручкой по дням в группе А\n",
    "cumulativeRevenueA = cumulativeData[cumulativeData['group']=='A'][['date','revenue', 'orders']]\n",
    "\n",
    "# датафрейм с кумулятивным количеством заказов и кумулятивной выручкой по дням в группе B\n",
    "cumulativeRevenueB = cumulativeData[cumulativeData['group']=='B'][['date','revenue', 'orders']]\n",
    "\n",
    "plt.figure(figsize=(10, 4))\n",
    "# Строим график выручки группы А\n",
    "plt.plot(cumulativeRevenueA['date'], cumulativeRevenueA['revenue'], label='A')\n",
    "\n",
    "# Строим график выручки группы B\n",
    "plt.plot(cumulativeRevenueB['date'], cumulativeRevenueB['revenue'], label='B')\n",
    "plt.xlabel('Дата')\n",
    "plt.ylabel('Выручка')\n",
    "plt.title(\"Кумулятивная выручка по дням и группам A/B-тестирования\")\n",
    "plt.xticks(rotation=90)\n",
    "plt.legend();"
   ]
  },
  {
   "cell_type": "markdown",
   "metadata": {},
   "source": [
    "У группы В кумулятивная выручка практически всегда выше, чем у группы А, особенно скачок сильный произошел 18 августа. Динамика на протяжении всего месяца восходящая у обоих групп, но у группы В было ускорение после 18 августа"
   ]
  },
  {
   "cell_type": "markdown",
   "metadata": {},
   "source": [
    "**Постройте график кумулятивного среднего чека по группам.**"
   ]
  },
  {
   "cell_type": "code",
   "execution_count": 16,
   "metadata": {},
   "outputs": [
    {
     "data": {
      "image/png": "[encoded data removed]",
      "text/plain": [
       "<Figure size 720x288 with 1 Axes>"
      ]
     },
     "metadata": {
      "needs_background": "light"
     },
     "output_type": "display_data"
    }
   ],
   "source": [
    "cumulativeRevenueA = cumulativeData[cumulativeData['group'] == 'A'][['date', 'revenue', 'orders']]\n",
    "cumulativeRevenueB = cumulativeData[cumulativeData['group'] == 'B'][['date', 'revenue', 'orders']]\n",
    "\n",
    "plt.figure(figsize=(10, 4))\n",
    "plt.xticks(rotation=90)\n",
    "plt.plot(cumulativeRevenueA['date'], cumulativeRevenueA['revenue']/cumulativeRevenueA['orders'], label='A')\n",
    "plt.plot(cumulativeRevenueB['date'], cumulativeRevenueB['revenue']/cumulativeRevenueB['orders'], label='B')\n",
    "plt.xlabel('Дата')\n",
    "plt.ylabel('Средний чек')\n",
    "plt.title(\"Кумулятивный средний чек по дням и группам A/B-тестирования\")\n",
    "plt.legend();"
   ]
  },
  {
   "cell_type": "markdown",
   "metadata": {},
   "source": [
    "Средний чек группы В выше, чем у группы А, 18 августа средний чек группы В резко вырос, теперь понятно, почему выручка также резко увеличилась у группы В"
   ]
  },
  {
   "cell_type": "markdown",
   "metadata": {},
   "source": [
    "**Постройте график относительного изменения кумулятивного среднего чека группы B к группе A.**"
   ]
  },
  {
   "cell_type": "code",
   "execution_count": 17,
   "metadata": {},
   "outputs": [
    {
     "data": {
      "image/png": "[encoded data removed]",
      "text/plain": [
       "<Figure size 720x288 with 1 Axes>"
      ]
     },
     "metadata": {
      "needs_background": "light"
     },
     "output_type": "display_data"
    }
   ],
   "source": [
    "# собираем данные в одном датафрейме\n",
    "mergedCumulativeRevenue = cumulativeRevenueA.merge(cumulativeRevenueB, left_on='date', right_on='date', how='left', suffixes=['A', 'B'])\n",
    "plt.figure(figsize=(10, 4))\n",
    "# cтроим отношение средних чеков\n",
    "plt.plot(mergedCumulativeRevenue['date'], (mergedCumulativeRevenue['revenueB']/mergedCumulativeRevenue['ordersB'])/(mergedCumulativeRevenue['revenueA']/mergedCumulativeRevenue['ordersA'])-1)\n",
    "\n",
    "# добавляем ось X\n",
    "plt.axhline(y=0, color='black', linestyle='--')\n",
    "plt.xlabel('Дата')\n",
    "plt.ylabel('Различие среднего чека')\n",
    "plt.title(\"Относительное различие для среднего чека\")\n",
    "plt.xticks(rotation=90);"
   ]
  },
  {
   "cell_type": "markdown",
   "metadata": {},
   "source": [
    "Относительное изменение кумулятивного среднего чека группы В к группе А в основном выше 0, что говорит о том, что средний чек группы В выше среднего чека группы А, особенно 18-24 августа. Возможно, что такой скачок идёт из-за возврата из отпусков и скоро первое сентября, детей собирают к школе"
   ]
  },
  {
   "cell_type": "markdown",
   "metadata": {},
   "source": [
    "**Постройте график кумулятивного среднего количества заказов на посетителя по группам.**"
   ]
  },
  {
   "cell_type": "markdown",
   "metadata": {},
   "source": [
    "Кумулятивное среднее количество заказов на протяжении 75% августа у группы В преобладает над группой А"
   ]
  },
  {
   "cell_type": "code",
   "execution_count": 18,
   "metadata": {},
   "outputs": [
    {
     "data": {
      "image/png": "[encoded data removed]",
      "text/plain": [
       "<Figure size 432x288 with 1 Axes>"
      ]
     },
     "metadata": {
      "needs_background": "light"
     },
     "output_type": "display_data"
    }
   ],
   "source": [
    "cumulativeData['conversion'] = cumulativeData['orders'] / cumulativeData['visitors']\n",
    "\n",
    "# отделяем данные по группе A\n",
    "cumulativeDataA = cumulativeData[cumulativeData['group'] == 'A']\n",
    "\n",
    "# отделяем данные по группе B\n",
    "cumulativeDataB = cumulativeData[cumulativeData['group'] == 'B']\n",
    "\n",
    "# строим графики\n",
    "plt.plot(cumulativeDataA['date'], cumulativeDataA['conversion'], label='A')\n",
    "plt.plot(cumulativeDataB['date'], cumulativeDataB['conversion'], label='B')\n",
    "plt.legend()\n",
    "\n",
    "\n",
    "plt.xlabel('Дата')\n",
    "plt.ylabel('Количество заказов')\n",
    "plt.title(\"Среднее количество заказов по группам\")\n",
    "plt.xticks(rotation=90)\n",
    "plt.show()"
   ]
  },
  {
   "cell_type": "markdown",
   "metadata": {},
   "source": [
    "В начале теста сегмент А имел большее среднее количество заказов, затем он немного упал и установился примерно около одного значения, в отличие от сегмента В, который возрос выше сегмента А и также установился в пределах одного значения."
   ]
  },
  {
   "cell_type": "markdown",
   "metadata": {},
   "source": [
    "Построим график относительного различия кумулятивного среднего количества заказов группы B к группе A. Добавим пунктирную линию оси X чёрного цвета ('black') со значением оси Y = 0 методом plt.axhline(). И ещё одну линию оси X серого цвета ('grey') со значением оси Y = 0.2"
   ]
  },
  {
   "cell_type": "code",
   "execution_count": 19,
   "metadata": {},
   "outputs": [
    {
     "data": {
      "image/png": "[encoded data removed]",
      "text/plain": [
       "<Figure size 432x288 with 1 Axes>"
      ]
     },
     "metadata": {
      "needs_background": "light"
     },
     "output_type": "display_data"
    }
   ],
   "source": [
    "mergedCumulativeConversions = cumulativeDataA[['date','conversion']].merge(cumulativeDataB[['date','conversion']], left_on='date', right_on='date', how='left', suffixes=['A', 'B'])\n",
    "\n",
    "plt.plot(mergedCumulativeConversions['date'], mergedCumulativeConversions['conversionB']/mergedCumulativeConversions['conversionA']-1, label=\"Относительный прирост конверсии группы B относительно группы A\")\n",
    "\n",
    "plt.axhline(y=0, color='black', linestyle='--')\n",
    "plt.axhline(y=0.15, color='grey', linestyle='--')\n",
    "\n",
    "plt.xlabel('Дата')\n",
    "plt.ylabel('Отношение в %')\n",
    "plt.title(\"Относительный прирост количества заказов группы В относительно группы А\")\n",
    "plt.xticks(rotation=90);"
   ]
  },
  {
   "cell_type": "markdown",
   "metadata": {},
   "source": [
    "Почти с самого начала теста группа B лидирует относительно группы А. Но не стоит говорить, что она зафиксировалась возле определенной цифры, но прирост становится примерно на 15%.\n",
    "\n",
    "Построим точечный график количества заказов по пользователям."
   ]
  },
  {
   "cell_type": "code",
   "execution_count": 20,
   "metadata": {},
   "outputs": [
    {
     "name": "stdout",
     "output_type": "stream",
     "text": [
      "      visitor_id  transaction_id\n",
      "1023  4256040402              11\n",
      "591   2458001652              11\n",
      "569   2378935119               9\n",
      "487   2038680547               8\n",
      "44     199603092               5\n",
      "744   3062433592               5\n",
      "55     237748145               5\n",
      "917   3803269165               5\n",
      "299   1230306981               5\n",
      "897   3717692402               5\n"
     ]
    },
    {
     "data": {
      "image/png": "[encoded data removed]",
      "text/plain": [
       "<Figure size 432x288 with 1 Axes>"
      ]
     },
     "metadata": {
      "needs_background": "light"
     },
     "output_type": "display_data"
    }
   ],
   "source": [
    "ordersByUsers = (\n",
    "    orders.groupby('visitor_id', as_index=False)\n",
    "    .agg({'transaction_id': 'nunique'})\n",
    ")\n",
    "ordersByUsers.columns = ['visitor_id', 'transaction_id']\n",
    "\n",
    "print(ordersByUsers.sort_values(by='transaction_id', ascending=False).head(10))\n",
    "\n",
    "# серия из чисел от 0 до количества наблюдений в ordersByUsers\n",
    "x_values = pd.Series(range(0, len(ordersByUsers)))\n",
    "plt.scatter(x_values, ordersByUsers['transaction_id']) \n",
    "plt.xlabel('Пользователи')\n",
    "plt.ylabel('Количество заказов')\n",
    "plt.title(\"Количество заказов по пользователям\")\n",
    "plt.show()"
   ]
  },
  {
   "cell_type": "markdown",
   "metadata": {},
   "source": [
    "Пользователи, которые сделали более 2 заказов встречаются редко. Для того, чтобы узнать аномалия это или нет, посчитаем 95-й и 99-й перцентили количества заказов на пользователя."
   ]
  },
  {
   "cell_type": "code",
   "execution_count": 21,
   "metadata": {},
   "outputs": [
    {
     "name": "stdout",
     "output_type": "stream",
     "text": [
      "      visitor_id  transaction_id\n",
      "1023  4256040402              11\n",
      "591   2458001652              11\n",
      "569   2378935119               9\n",
      "487   2038680547               8\n",
      "44     199603092               5\n",
      "744   3062433592               5\n",
      "55     237748145               5\n",
      "917   3803269165               5\n",
      "299   1230306981               5\n",
      "897   3717692402               5\n"
     ]
    },
    {
     "data": {
      "image/png": "[encoded data removed]",
      "text/plain": [
       "<Figure size 432x288 with 1 Axes>"
      ]
     },
     "metadata": {
      "needs_background": "light"
     },
     "output_type": "display_data"
    }
   ],
   "source": [
    "ordersByUsers = (\n",
    "    orders.groupby('visitor_id', as_index=False)\n",
    "    .agg({'transaction_id': 'nunique'})\n",
    ")\n",
    "ordersByUsers.columns = ['visitor_id', 'transaction_id']\n",
    "\n",
    "print(ordersByUsers.sort_values(by='transaction_id', ascending=False).head(10))\n",
    "\n",
    "# серия из чисел от 0 до количества наблюдений в ordersByUsers\n",
    "x_values = pd.Series(range(0, len(ordersByUsers)))\n",
    "plt.scatter(x_values, ordersByUsers['transaction_id']) \n",
    "plt.xlabel('Пользователи')\n",
    "plt.ylabel('Количество заказов')\n",
    "plt.title(\"Количество заказов по пользователям\")\n",
    "plt.show()"
   ]
  },
  {
   "cell_type": "markdown",
   "metadata": {},
   "source": [
    "Пользователи, которые сделали более 2 заказов встречаются редко. Для того, чтобы узнать аномалия это или нет, посчитаем 95-й и 99-й перцентили количества заказов на пользователя."
   ]
  },
  {
   "cell_type": "code",
   "execution_count": 22,
   "metadata": {},
   "outputs": [
    {
     "name": "stdout",
     "output_type": "stream",
     "text": [
      "      visitor_id  transaction_id\n",
      "1023  4256040402              11\n",
      "591   2458001652              11\n",
      "569   2378935119               9\n",
      "487   2038680547               8\n",
      "44     199603092               5\n",
      "744   3062433592               5\n",
      "55     237748145               5\n",
      "917   3803269165               5\n",
      "299   1230306981               5\n",
      "897   3717692402               5\n",
      "[2. 4.]\n"
     ]
    }
   ],
   "source": [
    "print(ordersByUsers.sort_values(by='transaction_id', ascending=False).head(10))\n",
    "\n",
    "print(np.percentile(ordersByUsers['transaction_id'], [ 95, 99]))"
   ]
  },
  {
   "cell_type": "markdown",
   "metadata": {},
   "source": [
    "Считать за выбросы буду 99 перцентиль. \n",
    "\n",
    "Не более 5% пользователей оформляли больше чем 2 заказа. И 1% пользователей заказывали более четырех раз.\n",
    "\n",
    "Построим точечный график стоимостей заказов."
   ]
  },
  {
   "cell_type": "code",
   "execution_count": 23,
   "metadata": {},
   "outputs": [
    {
     "data": {
      "image/png": "[encoded data removed]",
      "text/plain": [
       "<Figure size 432x288 with 1 Axes>"
      ]
     },
     "metadata": {
      "needs_background": "light"
     },
     "output_type": "display_data"
    }
   ],
   "source": [
    "x_values = pd.Series(range(0, len(orders['revenue'])))\n",
    "plt.scatter(x_values, orders['revenue']) \n",
    "plt.axis([0, 1200, 0, 200000])\n",
    "plt.xlabel('Пользователи')\n",
    "plt.ylabel('Стоимость заказов')\n",
    "plt.title(\"Стоимости заказов\")\n",
    "plt.show()"
   ]
  },
  {
   "cell_type": "markdown",
   "metadata": {},
   "source": [
    "Есть 2 выброса в районе 1 250 000, который выглядит весьма аномально, и 200 000. Посчитаем 95-й и 99-й перцентили стоимости заказов."
   ]
  },
  {
   "cell_type": "code",
   "execution_count": 24,
   "metadata": {},
   "outputs": [
    {
     "name": "stdout",
     "output_type": "stream",
     "text": [
      "   transaction_id  visitor_id       date  revenue group\n",
      "0      3667963787  3312258926 2019-08-15     1650     B\n",
      "1      2804400009  3642806036 2019-08-15      730     B\n",
      "2      2961555356  4069496402 2019-08-15      400     A\n",
      "3      3797467345  1196621759 2019-08-15     9759     B\n",
      "4      2282983706  2322279887 2019-08-15     2308     B\n",
      "5       182168103   935554773 2019-08-15     2210     B\n",
      "6       398296753  2900797465 2019-08-15     1860     B\n",
      "7      2626614568    78758296 2019-08-15     1044     A\n",
      "8      1576988021   295230930 2019-08-15    13710     A\n",
      "9      1506739906  1882260405 2019-08-15     1855     B\n",
      "[28000.  58233.2]\n"
     ]
    }
   ],
   "source": [
    "print(orders.head(10))\n",
    "print(np.percentile(orders['revenue'] , [95, 99]))"
   ]
  },
  {
   "cell_type": "markdown",
   "metadata": {},
   "source": [
    "99 перцентиль буду считать границей выбросов, соответственно свыше 58233.2.\n",
    "\n",
    "Не более 5% пользователей оформляли заказы на сумму более 28 000. И 1% пользователей заказывали на сумму более 58 233.\n",
    "\n",
    "Посчитаем статистическую значимость различий в конверсии между группами по «сырым» данным.\n",
    "\n",
    "Создадим переменные ordersByUsersA и ordersByUsersB со столбцами ['visitor_id', 'transaction_id'], где для пользователей, совершивших хотя бы 1 заказ, будет указано число заказов. Объявим переменные sampleA и sampleB, в которых пользователям с заказами будет соответствовать число заказов пользователя. А пользователям без заказов — нули. Посчитаем статистическую значимость различия среднего количества заказов по результатам двух недель теста.\n",
    "\n",
    "Для расчета р-value, используем тест Уилкоксона-Манна-Уитни, так как у нас имеются выбросы, а сам тест работает с рангами, не учитывая сами значения. Так же сформируем нулевую и альтернативную гипотезы. Нулевая гипотеза говорит о том, что статистическая значимость в количестве заказов и среднемк чеке не значительна и сделать вывод о различии нельзя, альтернативная гипотеза говорит о том, что статистическая значимость в количестве заказов и среднемк чеке значитаельная и между выборками имеется статистическая значимость. Порогом статистической значимости установим alpha=.05"
   ]
  },
  {
   "cell_type": "code",
   "execution_count": 27,
   "metadata": {},
   "outputs": [],
   "source": [
    "visitorsADaily = visitors[visitors['group'] == 'A'][['date', 'visitors']]\n",
    "visitorsADaily.columns = ['date', 'visitorsPerDateA']\n",
    "\n",
    "\n",
    "visitorsBDaily = visitors[visitors['group'] == 'B'][['date', 'visitors']]\n",
    "visitorsBDaily.columns = ['date', 'visitorsPerDateB']\n",
    "\n",
    "ordersADaily = (\n",
    "    orders[orders['group'] == 'A'][['date', 'transaction_id', 'visitor_id', 'revenue']]\n",
    "    .groupby('date', as_index=False)\n",
    "    .agg({'transaction_id': pd.Series.nunique, 'revenue': 'sum'})\n",
    ")\n",
    "ordersADaily.columns = ['date', 'ordersPerDateA', 'revenuePerDateA']\n",
    "\n",
    "ordersBDaily = (\n",
    "    orders[orders['group'] == 'B'][['date', 'transaction_id', 'visitor_id', 'revenue']]\n",
    "    .groupby('date', as_index=False)\n",
    "    .agg({'transaction_id': pd.Series.nunique, 'revenue': 'sum'})\n",
    ")\n",
    "ordersBDaily.columns = ['date', 'ordersPerDateB', 'revenuePerDateB']\n"
   ]
  },
  {
   "cell_type": "code",
   "execution_count": 28,
   "metadata": {},
   "outputs": [],
   "source": [
    "data = (\n",
    "    ordersADaily.merge(\n",
    "        ordersBDaily, left_on='date', right_on='date', how='left'\n",
    "    )\n",
    "    .merge(visitorsADaily, left_on='date', right_on='date', how='left')\n",
    "    .merge(visitorsBDaily, left_on='date', right_on='date', how='left')\n",
    ")"
   ]
  },
  {
   "cell_type": "markdown",
   "metadata": {},
   "source": [
    "--------------------------------"
   ]
  },
  {
   "cell_type": "code",
   "execution_count": 29,
   "metadata": {},
   "outputs": [
    {
     "name": "stdout",
     "output_type": "stream",
     "text": [
      "P-value: 0.017\n",
      "Относительные различия: 0.138\n"
     ]
    }
   ],
   "source": [
    "ordersByUsersA = (\n",
    "    orders[orders['group'] == 'A']\n",
    "    .groupby('visitor_id', as_index=False)\n",
    "    .agg({'transaction_id': pd.Series.nunique})\n",
    ")\n",
    "ordersByUsersA.columns = ['visitor_id', 'transaction_id']\n",
    "\n",
    "ordersByUsersB = (\n",
    "    orders[orders['group'] == 'B']\n",
    "    .groupby('visitor_id', as_index=False)\n",
    "    .agg({'transaction_id': pd.Series.nunique})\n",
    ")\n",
    "ordersByUsersB.columns = ['visitor_id', 'transaction_id'] \n",
    "sampleA = pd.concat([ordersByUsersA['transaction_id'],pd.Series(0, index=np.arange(data['visitorsPerDateA'].sum() - len(ordersByUsersA['transaction_id'])), name='orders')],axis=0)\n",
    "\n",
    "sampleB = pd.concat([ordersByUsersB['transaction_id'],pd.Series(0, index=np.arange(data['visitorsPerDateB'].sum() - len(ordersByUsersB['transaction_id'])), name='orders')],axis=0)\n",
    "print('P-value:',\"{0:.3f}\".format(stats.mannwhitneyu(sampleA, sampleB)[1]))\n",
    "\n",
    "print('Относительные различия:',\"{0:.3f}\".format(sampleB.mean() / sampleA.mean() - 1))"
   ]
  },
  {
   "cell_type": "markdown",
   "metadata": {},
   "source": [
    "P-value значительно меньше 0.05, значит стоит отвергнуть нулевую гипотезу. Анализ \"сырых данных\" сообщает, что в среднем количестве заказов между группами есть статистически значимые различия. Относительный прирост среднего группы В к группе А равен 13.8%.\n",
    "\n",
    "Сравним среднее количество заказов по сырым данным, а затем проделаем те же самые действия с выборкой без выбросов."
   ]
  },
  {
   "cell_type": "code",
   "execution_count": 30,
   "metadata": {},
   "outputs": [
    {
     "name": "stdout",
     "output_type": "stream",
     "text": [
      "P-value: 0.729\n",
      "Относительные различия: 0.259\n"
     ]
    }
   ],
   "source": [
    "print('P-value:','{0:.3f}'.format(stats.mannwhitneyu(orders[orders['group']=='A']['revenue'], orders[orders['group']=='B']['revenue'])[1]))\n",
    "print('Относительные различия:','{0:.3f}'.format(orders[orders['group']=='B']['revenue'].mean()/orders[orders['group']=='A']['revenue'].mean()-1)) "
   ]
  },
  {
   "cell_type": "markdown",
   "metadata": {},
   "source": [
    "P-value значительно больше 0.05, соответственно мы не можем отвергнуть нулевую гипотезу, статистически значимых отличий в среднем чеке между группами нет. Относительное различие между чеками около 26%. Почистим данные и посчитаем те же метрики.\n",
    "\n",
    "Приступаем к подготовке очищенных от аномалий данных. Напомним, что 95-й и 99-й перцентили средних чеков равны 28 000 и 58 233 рублям. А 95-й и 99-й перцентили числа заказов на одного пользователя равны 2 и 4 заказам на пользователя. Ранее указывал, что аномалии для меня это 99 перцентиль, а именно те, кто совершил 4 заказа и более, или совершил заказ на сумму свыше 58 233 рублей. Так мы уберём 1% пользователей с наибольшим числом заказов и с наибольшей стоимостью."
   ]
  },
  {
   "cell_type": "code",
   "execution_count": 31,
   "metadata": {},
   "outputs": [],
   "source": [
    "usersWithManyOrders = pd.concat(\n",
    "    [\n",
    "        ordersByUsersA[ordersByUsersA['transaction_id'] > np.percentile(ordersByUsers['transaction_id'], 99)]['visitor_id'],\n",
    "        ordersByUsersB[ordersByUsersB['transaction_id'] > np.percentile(ordersByUsers['transaction_id'], 99)]['visitor_id'],\n",
    "    ],\n",
    "    axis=0,\n",
    ")\n",
    "usersWithExpensiveOrders = orders[orders['revenue'] > np.percentile(orders['revenue'] , 99)]['visitor_id']\n",
    "abnormalUsers = (\n",
    "    pd.concat([usersWithManyOrders, usersWithExpensiveOrders], axis=0)\n",
    "    .drop_duplicates()\n",
    "    .sort_values()\n",
    ")"
   ]
  },
  {
   "cell_type": "code",
   "execution_count": 32,
   "metadata": {},
   "outputs": [
    {
     "name": "stdout",
     "output_type": "stream",
     "text": [
      "P-value: 0.014\n",
      "Относительные различия: 0.153\n"
     ]
    }
   ],
   "source": [
    "sampleAFiltered = pd.concat(\n",
    "    [\n",
    "        ordersByUsersA[\n",
    "            np.logical_not(ordersByUsersA['visitor_id'].isin(abnormalUsers))\n",
    "        ]['transaction_id'],\n",
    "        pd.Series(\n",
    "            0,\n",
    "            index=np.arange(\n",
    "                data['visitorsPerDateA'].sum() - len(ordersByUsersA['transaction_id'])\n",
    "            ),\n",
    "            name='orders',\n",
    "        ),\n",
    "    ],\n",
    "    axis=0,\n",
    ")\n",
    "\n",
    "sampleBFiltered = pd.concat(\n",
    "    [\n",
    "        ordersByUsersB[\n",
    "            np.logical_not(ordersByUsersB['visitor_id'].isin(abnormalUsers))\n",
    "        ]['transaction_id'],\n",
    "        pd.Series(\n",
    "            0,\n",
    "            index=np.arange(\n",
    "                data['visitorsPerDateB'].sum() - len(ordersByUsersB['transaction_id'])\n",
    "            ),\n",
    "            name='orders',\n",
    "        ),\n",
    "    ],\n",
    "    axis=0,\n",
    ") \n",
    "print('P-value:','{0:.3f}'.format(stats.mannwhitneyu(sampleAFiltered, sampleBFiltered)[1]))\n",
    "print('Относительные различия:','{0:.3f}'.format(sampleBFiltered.mean()/sampleAFiltered.mean()-1)) "
   ]
  },
  {
   "cell_type": "markdown",
   "metadata": {},
   "source": [
    "Здесь следует отвергнуть нулевую гипотезу, т.к. P-Value меньше 0.05 (0.014)\n",
    "\n",
    "Как и в случае с сырым данными, статистическая значимость достигнута. Сегмент В лучше сегмента А.\n",
    "\n",
    "Посчитаем статистическую значимость различия средних чеков после удаления аномальных пользователей."
   ]
  },
  {
   "cell_type": "code",
   "execution_count": 33,
   "metadata": {},
   "outputs": [
    {
     "name": "stdout",
     "output_type": "stream",
     "text": [
      "P-value: 0.851\n",
      "Относительные различия: -0.006\n"
     ]
    }
   ],
   "source": [
    "print('P-value:',\n",
    "    '{0:.3f}'.format(\n",
    "        stats.mannwhitneyu(\n",
    "            orders[\n",
    "                np.logical_and(\n",
    "                    orders['group'] == 'A',\n",
    "                    np.logical_not(orders['visitor_id'].isin(abnormalUsers)),\n",
    "                )\n",
    "            ]['revenue'],\n",
    "            orders[\n",
    "                np.logical_and(\n",
    "                    orders['group'] == 'B',\n",
    "                    np.logical_not(orders['visitor_id'].isin(abnormalUsers)),\n",
    "                )\n",
    "            ]['revenue'],\n",
    "        )[1]\n",
    "    )\n",
    ")\n",
    "\n",
    "print('Относительные различия:',\n",
    "    \"{0:.3f}\".format(\n",
    "        orders[\n",
    "            np.logical_and(\n",
    "                orders['group'] == 'B',\n",
    "                np.logical_not(orders['visitor_id'].isin(abnormalUsers)),\n",
    "            )\n",
    "        ]['revenue'].mean()\n",
    "        / orders[\n",
    "            np.logical_and(\n",
    "                orders['group'] == 'A',\n",
    "                np.logical_not(orders['visitor_id'].isin(abnormalUsers)),\n",
    "            )\n",
    "        ]['revenue'].mean()\n",
    "        - 1\n",
    "    )\n",
    ") "
   ]
  },
  {
   "cell_type": "markdown",
   "metadata": {},
   "source": [
    "P-value увеличился, и мы не можем отвергнуть нулевую гипотезу, но и разница между сегментами сократилась с 15.3 % до -0.6 %. После удаления выбросов в данных меньше шума."
   ]
  },
  {
   "cell_type": "markdown",
   "metadata": {},
   "source": [
    "**Выводы**\n",
    "\n",
    "- Есть статистически значимое различие по конверсии между группами как по сырым данным, так и после фильтрации аномалий.\n",
    "\n",
    "- По сырым данным нет статистически значимого различия по среднему чеку между группами, как и после удаления выбросов.\n",
    "\n",
    "- График различия конверсии между группами сообщает, что результаты группы B лучше группы A: имеют тенденцию к росту, либо зафиксировались около среднего значения.\n",
    "\n",
    "- График различия среднего чека колеблется: он-то и позволил вам найти аномалии. Сделать из этого графика определённые выводы нельзя.\n",
    "\n",
    "Есть вариант остановить тест, признать победу группы В."
   ]
  }
 ],
 "metadata": {
  "ExecuteTimeLog": [
   {
    "duration": 78,
    "start_time": "2023-05-08T17:53:57.480Z"
   },
   {
    "duration": 781,
    "start_time": "2023-05-08T17:54:03.227Z"
   },
   {
    "duration": 62,
    "start_time": "2023-05-08T17:55:30.502Z"
   },
   {
    "duration": 74,
    "start_time": "2023-05-08T17:55:37.211Z"
   },
   {
    "duration": 34,
    "start_time": "2023-05-08T17:55:43.530Z"
   },
   {
    "duration": 28,
    "start_time": "2023-05-08T17:55:50.316Z"
   },
   {
    "duration": 74,
    "start_time": "2023-05-08T18:04:47.509Z"
   },
   {
    "duration": 645,
    "start_time": "2023-05-08T18:04:53.837Z"
   },
   {
    "duration": 44,
    "start_time": "2023-05-08T18:04:54.484Z"
   },
   {
    "duration": 81,
    "start_time": "2023-05-08T18:04:54.530Z"
   },
   {
    "duration": 0,
    "start_time": "2023-05-08T18:04:54.613Z"
   },
   {
    "duration": 5,
    "start_time": "2023-05-08T18:05:09.439Z"
   },
   {
    "duration": 67,
    "start_time": "2023-05-08T18:05:12.415Z"
   },
   {
    "duration": 4,
    "start_time": "2023-05-08T18:05:23.649Z"
   },
   {
    "duration": 13,
    "start_time": "2023-05-08T18:05:33.243Z"
   },
   {
    "duration": 13,
    "start_time": "2023-05-08T18:06:11.018Z"
   },
   {
    "duration": 12,
    "start_time": "2023-05-08T18:06:22.517Z"
   },
   {
    "duration": 19,
    "start_time": "2023-05-08T18:12:07.822Z"
   },
   {
    "duration": 623,
    "start_time": "2023-05-08T18:12:18.848Z"
   },
   {
    "duration": 44,
    "start_time": "2023-05-08T18:12:19.473Z"
   },
   {
    "duration": 13,
    "start_time": "2023-05-08T18:12:19.519Z"
   },
   {
    "duration": 5,
    "start_time": "2023-05-08T18:12:19.534Z"
   },
   {
    "duration": 13,
    "start_time": "2023-05-08T18:12:19.541Z"
   },
   {
    "duration": 19,
    "start_time": "2023-05-08T18:12:48.005Z"
   },
   {
    "duration": 729,
    "start_time": "2023-05-08T18:12:54.485Z"
   },
   {
    "duration": 31,
    "start_time": "2023-05-08T18:12:55.218Z"
   },
   {
    "duration": 15,
    "start_time": "2023-05-08T18:12:55.251Z"
   },
   {
    "duration": 17,
    "start_time": "2023-05-08T18:12:55.268Z"
   },
   {
    "duration": 26,
    "start_time": "2023-05-08T18:12:55.288Z"
   },
   {
    "duration": 50,
    "start_time": "2023-05-09T08:54:12.941Z"
   },
   {
    "duration": 804,
    "start_time": "2023-05-09T08:54:18.234Z"
   },
   {
    "duration": 95,
    "start_time": "2023-05-09T08:54:19.041Z"
   },
   {
    "duration": 13,
    "start_time": "2023-05-09T08:54:19.138Z"
   },
   {
    "duration": 12,
    "start_time": "2023-05-09T08:54:19.153Z"
   },
   {
    "duration": 96,
    "start_time": "2023-05-09T08:54:19.167Z"
   },
   {
    "duration": 51,
    "start_time": "2023-05-09T08:55:38.665Z"
   },
   {
    "duration": 76,
    "start_time": "2023-05-09T08:55:52.794Z"
   },
   {
    "duration": 50,
    "start_time": "2023-05-09T08:55:54.771Z"
   },
   {
    "duration": 27,
    "start_time": "2023-05-09T08:55:56.497Z"
   },
   {
    "duration": 35,
    "start_time": "2023-05-09T08:56:07.229Z"
   },
   {
    "duration": 61,
    "start_time": "2023-05-09T08:56:09.147Z"
   },
   {
    "duration": 57,
    "start_time": "2023-05-09T08:56:23.365Z"
   },
   {
    "duration": 33,
    "start_time": "2023-05-09T08:56:31.855Z"
   },
   {
    "duration": 628,
    "start_time": "2023-05-09T09:02:28.446Z"
   },
   {
    "duration": 37,
    "start_time": "2023-05-09T09:02:29.076Z"
   },
   {
    "duration": 12,
    "start_time": "2023-05-09T09:02:29.115Z"
   },
   {
    "duration": 14,
    "start_time": "2023-05-09T09:02:29.129Z"
   },
   {
    "duration": 54,
    "start_time": "2023-05-09T09:02:29.145Z"
   },
   {
    "duration": 21,
    "start_time": "2023-05-09T09:02:29.201Z"
   },
   {
    "duration": 349,
    "start_time": "2023-05-09T09:08:20.251Z"
   },
   {
    "duration": 60,
    "start_time": "2023-05-09T09:09:21.029Z"
   },
   {
    "duration": 336,
    "start_time": "2023-05-09T09:10:03.327Z"
   },
   {
    "duration": 146,
    "start_time": "2023-05-09T09:10:21.230Z"
   },
   {
    "duration": 28,
    "start_time": "2023-05-09T09:11:12.397Z"
   },
   {
    "duration": 611,
    "start_time": "2023-05-09T09:13:03.276Z"
   },
   {
    "duration": 193,
    "start_time": "2023-05-09T09:13:44.909Z"
   },
   {
    "duration": 126,
    "start_time": "2023-05-09T09:13:48.051Z"
   },
   {
    "duration": 315,
    "start_time": "2023-05-09T09:14:07.237Z"
   },
   {
    "duration": 302,
    "start_time": "2023-05-09T09:17:09.273Z"
   },
   {
    "duration": 318,
    "start_time": "2023-05-09T09:17:16.206Z"
   },
   {
    "duration": 345,
    "start_time": "2023-05-09T09:17:25.412Z"
   },
   {
    "duration": 345,
    "start_time": "2023-05-09T09:17:31.955Z"
   },
   {
    "duration": 355,
    "start_time": "2023-05-09T09:17:42.256Z"
   },
   {
    "duration": 404,
    "start_time": "2023-05-09T09:17:51.778Z"
   },
   {
    "duration": 446,
    "start_time": "2023-05-09T09:18:40.423Z"
   },
   {
    "duration": 350,
    "start_time": "2023-05-09T09:18:50.479Z"
   },
   {
    "duration": 404,
    "start_time": "2023-05-09T09:18:57.084Z"
   },
   {
    "duration": 308,
    "start_time": "2023-05-09T09:19:04.314Z"
   },
   {
    "duration": 299,
    "start_time": "2023-05-09T09:23:05.102Z"
   },
   {
    "duration": 437,
    "start_time": "2023-05-09T09:23:26.893Z"
   },
   {
    "duration": 300,
    "start_time": "2023-05-09T09:23:43.790Z"
   },
   {
    "duration": 297,
    "start_time": "2023-05-09T09:24:08.379Z"
   },
   {
    "duration": 311,
    "start_time": "2023-05-09T09:24:22.957Z"
   },
   {
    "duration": 417,
    "start_time": "2023-05-09T09:24:35.465Z"
   },
   {
    "duration": 301,
    "start_time": "2023-05-09T09:24:44.606Z"
   },
   {
    "duration": 7,
    "start_time": "2023-05-09T09:24:59.304Z"
   },
   {
    "duration": 23,
    "start_time": "2023-05-09T09:25:03.430Z"
   },
   {
    "duration": 416,
    "start_time": "2023-05-09T09:25:05.614Z"
   },
   {
    "duration": 359,
    "start_time": "2023-05-09T09:25:10.181Z"
   },
   {
    "duration": 430,
    "start_time": "2023-05-09T09:25:33.214Z"
   },
   {
    "duration": 300,
    "start_time": "2023-05-09T09:25:47.965Z"
   },
   {
    "duration": 309,
    "start_time": "2023-05-09T09:29:14.797Z"
   },
   {
    "duration": 276,
    "start_time": "2023-05-09T09:29:18.811Z"
   },
   {
    "duration": 26,
    "start_time": "2023-05-09T09:32:12.530Z"
   },
   {
    "duration": 365,
    "start_time": "2023-05-09T10:42:00.661Z"
   },
   {
    "duration": 342,
    "start_time": "2023-05-09T10:42:42.450Z"
   },
   {
    "duration": 400,
    "start_time": "2023-05-09T10:42:52.838Z"
   },
   {
    "duration": 291,
    "start_time": "2023-05-09T10:43:01.502Z"
   },
   {
    "duration": 265,
    "start_time": "2023-05-09T10:43:04.825Z"
   },
   {
    "duration": 237,
    "start_time": "2023-05-09T10:43:11.351Z"
   },
   {
    "duration": 328,
    "start_time": "2023-05-09T10:43:16.742Z"
   },
   {
    "duration": 363,
    "start_time": "2023-05-09T11:16:38.479Z"
   },
   {
    "duration": 333,
    "start_time": "2023-05-09T11:16:49.753Z"
   },
   {
    "duration": 253,
    "start_time": "2023-05-09T11:17:03.963Z"
   },
   {
    "duration": 346,
    "start_time": "2023-05-09T11:48:09.023Z"
   },
   {
    "duration": 280,
    "start_time": "2023-05-09T11:50:18.877Z"
   },
   {
    "duration": 322,
    "start_time": "2023-05-09T11:50:43.315Z"
   },
   {
    "duration": 340,
    "start_time": "2023-05-09T11:50:53.844Z"
   },
   {
    "duration": 338,
    "start_time": "2023-05-09T11:51:00.556Z"
   },
   {
    "duration": 319,
    "start_time": "2023-05-09T11:51:39.445Z"
   },
   {
    "duration": 467,
    "start_time": "2023-05-09T11:51:52.088Z"
   },
   {
    "duration": 273,
    "start_time": "2023-05-09T11:52:34.348Z"
   },
   {
    "duration": 302,
    "start_time": "2023-05-09T11:52:38.915Z"
   },
   {
    "duration": 283,
    "start_time": "2023-05-09T11:53:18.726Z"
   },
   {
    "duration": 313,
    "start_time": "2023-05-09T11:54:09.247Z"
   },
   {
    "duration": 336,
    "start_time": "2023-05-09T11:54:14.790Z"
   },
   {
    "duration": 318,
    "start_time": "2023-05-09T11:54:23.973Z"
   },
   {
    "duration": 170,
    "start_time": "2023-05-09T11:54:42.663Z"
   },
   {
    "duration": 339,
    "start_time": "2023-05-09T11:54:49.862Z"
   },
   {
    "duration": 877,
    "start_time": "2023-05-10T04:09:01.514Z"
   },
   {
    "duration": 95,
    "start_time": "2023-05-10T04:09:02.393Z"
   },
   {
    "duration": 11,
    "start_time": "2023-05-10T04:09:02.489Z"
   },
   {
    "duration": 11,
    "start_time": "2023-05-10T04:09:02.502Z"
   },
   {
    "duration": 101,
    "start_time": "2023-05-10T04:09:02.515Z"
   },
   {
    "duration": 306,
    "start_time": "2023-05-10T04:09:02.618Z"
   },
   {
    "duration": 73,
    "start_time": "2023-05-10T04:09:02.926Z"
   },
   {
    "duration": 159,
    "start_time": "2023-05-10T04:09:03.001Z"
   },
   {
    "duration": 185,
    "start_time": "2023-05-10T04:09:03.161Z"
   },
   {
    "duration": 130,
    "start_time": "2023-05-10T04:09:03.351Z"
   },
   {
    "duration": 6,
    "start_time": "2023-05-10T04:09:03.482Z"
   },
   {
    "duration": 364,
    "start_time": "2023-05-10T04:09:03.489Z"
   },
   {
    "duration": 303,
    "start_time": "2023-05-10T04:09:03.854Z"
   },
   {
    "duration": 442,
    "start_time": "2023-05-10T04:09:04.159Z"
   },
   {
    "duration": 343,
    "start_time": "2023-05-10T04:09:04.603Z"
   },
   {
    "duration": 430,
    "start_time": "2023-05-10T04:11:50.662Z"
   },
   {
    "duration": 440,
    "start_time": "2023-05-10T04:12:04.334Z"
   },
   {
    "duration": 118,
    "start_time": "2023-05-10T04:12:58.398Z"
   },
   {
    "duration": 903,
    "start_time": "2023-05-13T15:04:46.207Z"
   },
   {
    "duration": 93,
    "start_time": "2023-05-13T15:04:47.113Z"
   },
   {
    "duration": 17,
    "start_time": "2023-05-13T15:04:47.208Z"
   },
   {
    "duration": 14,
    "start_time": "2023-05-13T15:04:47.227Z"
   },
   {
    "duration": 95,
    "start_time": "2023-05-13T15:04:47.243Z"
   },
   {
    "duration": 384,
    "start_time": "2023-05-13T15:04:47.341Z"
   },
   {
    "duration": 78,
    "start_time": "2023-05-13T15:04:47.727Z"
   },
   {
    "duration": 165,
    "start_time": "2023-05-13T15:04:47.807Z"
   },
   {
    "duration": 240,
    "start_time": "2023-05-13T15:04:47.974Z"
   },
   {
    "duration": 163,
    "start_time": "2023-05-13T15:04:48.218Z"
   },
   {
    "duration": 6,
    "start_time": "2023-05-13T15:04:48.383Z"
   },
   {
    "duration": 410,
    "start_time": "2023-05-13T15:04:48.391Z"
   },
   {
    "duration": 328,
    "start_time": "2023-05-13T15:04:48.802Z"
   },
   {
    "duration": 509,
    "start_time": "2023-05-13T15:04:49.133Z"
   },
   {
    "duration": 329,
    "start_time": "2023-05-13T15:04:49.644Z"
   },
   {
    "duration": 410,
    "start_time": "2023-05-13T15:04:49.975Z"
   },
   {
    "duration": 236,
    "start_time": "2023-05-13T15:04:50.386Z"
   },
   {
    "duration": 596,
    "start_time": "2023-05-13T15:08:42.139Z"
   },
   {
    "duration": 403,
    "start_time": "2023-05-13T15:08:57.448Z"
   },
   {
    "duration": 201,
    "start_time": "2023-05-13T15:09:21.798Z"
   },
   {
    "duration": 12,
    "start_time": "2023-05-13T15:10:37.872Z"
   },
   {
    "duration": 252,
    "start_time": "2023-05-13T15:10:52.429Z"
   },
   {
    "duration": 8,
    "start_time": "2023-05-13T15:11:12.399Z"
   },
   {
    "duration": 217,
    "start_time": "2023-05-13T15:11:44.692Z"
   },
   {
    "duration": 35,
    "start_time": "2023-05-13T15:11:56.806Z"
   },
   {
    "duration": 211,
    "start_time": "2023-05-13T15:12:08.697Z"
   },
   {
    "duration": 768,
    "start_time": "2023-05-13T15:12:18.767Z"
   },
   {
    "duration": 57,
    "start_time": "2023-05-13T15:12:19.537Z"
   },
   {
    "duration": 19,
    "start_time": "2023-05-13T15:12:19.597Z"
   },
   {
    "duration": 21,
    "start_time": "2023-05-13T15:12:19.618Z"
   },
   {
    "duration": 67,
    "start_time": "2023-05-13T15:12:19.641Z"
   },
   {
    "duration": 506,
    "start_time": "2023-05-13T15:12:19.713Z"
   },
   {
    "duration": 25,
    "start_time": "2023-05-13T15:12:20.221Z"
   },
   {
    "duration": 236,
    "start_time": "2023-05-13T15:12:20.249Z"
   },
   {
    "duration": 252,
    "start_time": "2023-05-13T15:12:20.487Z"
   },
   {
    "duration": 178,
    "start_time": "2023-05-13T15:12:20.744Z"
   },
   {
    "duration": 10,
    "start_time": "2023-05-13T15:12:20.924Z"
   },
   {
    "duration": 504,
    "start_time": "2023-05-13T15:12:20.949Z"
   },
   {
    "duration": 432,
    "start_time": "2023-05-13T15:12:21.456Z"
   },
   {
    "duration": 461,
    "start_time": "2023-05-13T15:12:21.892Z"
   },
   {
    "duration": 478,
    "start_time": "2023-05-13T15:12:22.356Z"
   },
   {
    "duration": 483,
    "start_time": "2023-05-13T15:12:22.836Z"
   },
   {
    "duration": 164,
    "start_time": "2023-05-13T15:12:23.320Z"
   },
   {
    "duration": 501,
    "start_time": "2023-05-13T15:12:23.486Z"
   },
   {
    "duration": 196,
    "start_time": "2023-05-13T15:12:23.989Z"
   },
   {
    "duration": 8,
    "start_time": "2023-05-13T15:12:24.187Z"
   },
   {
    "duration": 199,
    "start_time": "2023-05-13T15:12:24.201Z"
   },
   {
    "duration": 11,
    "start_time": "2023-05-13T15:12:24.402Z"
   },
   {
    "duration": 273,
    "start_time": "2023-05-13T15:12:24.416Z"
   },
   {
    "duration": 31,
    "start_time": "2023-05-13T15:12:24.695Z"
   },
   {
    "duration": 342,
    "start_time": "2023-05-13T15:12:24.728Z"
   },
   {
    "duration": 185,
    "start_time": "2023-05-13T15:15:53.802Z"
   },
   {
    "duration": 552,
    "start_time": "2023-05-13T15:16:42.036Z"
   },
   {
    "duration": 1311,
    "start_time": "2023-05-13T15:16:47.468Z"
   },
   {
    "duration": 33,
    "start_time": "2023-05-13T15:16:48.781Z"
   },
   {
    "duration": 13,
    "start_time": "2023-05-13T15:16:48.816Z"
   },
   {
    "duration": 12,
    "start_time": "2023-05-13T15:16:48.831Z"
   },
   {
    "duration": 62,
    "start_time": "2023-05-13T15:16:48.844Z"
   },
   {
    "duration": 314,
    "start_time": "2023-05-13T15:16:48.907Z"
   },
   {
    "duration": 23,
    "start_time": "2023-05-13T15:16:49.223Z"
   },
   {
    "duration": 175,
    "start_time": "2023-05-13T15:16:49.248Z"
   },
   {
    "duration": 198,
    "start_time": "2023-05-13T15:16:49.425Z"
   },
   {
    "duration": 137,
    "start_time": "2023-05-13T15:16:49.626Z"
   },
   {
    "duration": 7,
    "start_time": "2023-05-13T15:16:49.765Z"
   },
   {
    "duration": 342,
    "start_time": "2023-05-13T15:16:49.773Z"
   },
   {
    "duration": 428,
    "start_time": "2023-05-13T15:16:50.118Z"
   },
   {
    "duration": 403,
    "start_time": "2023-05-13T15:16:50.550Z"
   },
   {
    "duration": 320,
    "start_time": "2023-05-13T15:16:50.955Z"
   },
   {
    "duration": 397,
    "start_time": "2023-05-13T15:16:51.278Z"
   },
   {
    "duration": 215,
    "start_time": "2023-05-13T15:16:51.678Z"
   },
   {
    "duration": 400,
    "start_time": "2023-05-13T15:16:51.895Z"
   },
   {
    "duration": 185,
    "start_time": "2023-05-13T15:16:52.297Z"
   },
   {
    "duration": 13,
    "start_time": "2023-05-13T15:16:52.484Z"
   },
   {
    "duration": 164,
    "start_time": "2023-05-13T15:16:52.500Z"
   },
   {
    "duration": 8,
    "start_time": "2023-05-13T15:16:52.666Z"
   },
   {
    "duration": 205,
    "start_time": "2023-05-13T15:16:52.675Z"
   },
   {
    "duration": 21,
    "start_time": "2023-05-13T15:16:52.882Z"
   },
   {
    "duration": 298,
    "start_time": "2023-05-13T15:16:52.905Z"
   },
   {
    "duration": 229,
    "start_time": "2023-05-13T15:16:57.313Z"
   },
   {
    "duration": 11,
    "start_time": "2023-05-13T15:17:20.239Z"
   },
   {
    "duration": 16,
    "start_time": "2023-05-13T15:17:56.554Z"
   },
   {
    "duration": 35,
    "start_time": "2023-05-13T15:18:05.368Z"
   },
   {
    "duration": 18,
    "start_time": "2023-05-13T15:18:20.183Z"
   },
   {
    "duration": 1055,
    "start_time": "2023-05-13T16:07:32.447Z"
   },
   {
    "duration": 34,
    "start_time": "2023-05-13T16:07:33.504Z"
   },
   {
    "duration": 15,
    "start_time": "2023-05-13T16:07:33.539Z"
   },
   {
    "duration": 14,
    "start_time": "2023-05-13T16:07:33.556Z"
   },
   {
    "duration": 40,
    "start_time": "2023-05-13T16:07:33.572Z"
   },
   {
    "duration": 290,
    "start_time": "2023-05-13T16:07:33.613Z"
   },
   {
    "duration": 22,
    "start_time": "2023-05-13T16:07:33.905Z"
   },
   {
    "duration": 234,
    "start_time": "2023-05-13T16:07:33.929Z"
   },
   {
    "duration": 230,
    "start_time": "2023-05-13T16:07:34.165Z"
   },
   {
    "duration": 153,
    "start_time": "2023-05-13T16:07:34.397Z"
   },
   {
    "duration": 9,
    "start_time": "2023-05-13T16:07:34.552Z"
   },
   {
    "duration": 287,
    "start_time": "2023-05-13T16:07:34.563Z"
   },
   {
    "duration": 282,
    "start_time": "2023-05-13T16:07:34.852Z"
   },
   {
    "duration": 404,
    "start_time": "2023-05-13T16:07:35.137Z"
   },
   {
    "duration": 295,
    "start_time": "2023-05-13T16:07:35.543Z"
   },
   {
    "duration": 385,
    "start_time": "2023-05-13T16:07:35.840Z"
   },
   {
    "duration": 237,
    "start_time": "2023-05-13T16:07:36.227Z"
   },
   {
    "duration": 356,
    "start_time": "2023-05-13T16:07:36.466Z"
   },
   {
    "duration": 140,
    "start_time": "2023-05-13T16:07:36.824Z"
   },
   {
    "duration": 7,
    "start_time": "2023-05-13T16:07:36.966Z"
   },
   {
    "duration": 160,
    "start_time": "2023-05-13T16:07:36.975Z"
   },
   {
    "duration": 7,
    "start_time": "2023-05-13T16:07:37.136Z"
   },
   {
    "duration": 203,
    "start_time": "2023-05-13T16:07:37.149Z"
   },
   {
    "duration": 21,
    "start_time": "2023-05-13T16:07:37.354Z"
   },
   {
    "duration": 192,
    "start_time": "2023-05-13T16:07:37.377Z"
   },
   {
    "duration": 11,
    "start_time": "2023-05-13T16:07:37.570Z"
   },
   {
    "duration": 7,
    "start_time": "2023-05-13T16:07:37.583Z"
   },
   {
    "duration": 31,
    "start_time": "2023-05-13T16:07:37.591Z"
   },
   {
    "duration": 39,
    "start_time": "2023-05-13T16:07:37.623Z"
   },
   {
    "duration": 1134,
    "start_time": "2023-05-14T02:41:03.799Z"
   },
   {
    "duration": 92,
    "start_time": "2023-05-14T02:41:04.934Z"
   },
   {
    "duration": 10,
    "start_time": "2023-05-14T02:41:05.028Z"
   },
   {
    "duration": 40,
    "start_time": "2023-05-14T02:41:05.040Z"
   },
   {
    "duration": 113,
    "start_time": "2023-05-14T02:41:05.081Z"
   },
   {
    "duration": 309,
    "start_time": "2023-05-14T02:41:05.195Z"
   },
   {
    "duration": 69,
    "start_time": "2023-05-14T02:41:05.506Z"
   },
   {
    "duration": 120,
    "start_time": "2023-05-14T02:41:05.576Z"
   },
   {
    "duration": 152,
    "start_time": "2023-05-14T02:41:05.698Z"
   },
   {
    "duration": 100,
    "start_time": "2023-05-14T02:41:05.852Z"
   },
   {
    "duration": 18,
    "start_time": "2023-05-14T02:41:05.954Z"
   },
   {
    "duration": 267,
    "start_time": "2023-05-14T02:41:05.973Z"
   },
   {
    "duration": 269,
    "start_time": "2023-05-14T02:41:06.242Z"
   },
   {
    "duration": 353,
    "start_time": "2023-05-14T02:41:06.513Z"
   },
   {
    "duration": 255,
    "start_time": "2023-05-14T02:41:06.868Z"
   },
   {
    "duration": 330,
    "start_time": "2023-05-14T02:41:07.125Z"
   },
   {
    "duration": 197,
    "start_time": "2023-05-14T02:41:07.457Z"
   },
   {
    "duration": 348,
    "start_time": "2023-05-14T02:41:07.656Z"
   },
   {
    "duration": 123,
    "start_time": "2023-05-14T02:41:08.005Z"
   },
   {
    "duration": 6,
    "start_time": "2023-05-14T02:41:08.130Z"
   },
   {
    "duration": 155,
    "start_time": "2023-05-14T02:41:08.137Z"
   },
   {
    "duration": 6,
    "start_time": "2023-05-14T02:41:08.295Z"
   },
   {
    "duration": 214,
    "start_time": "2023-05-14T02:41:08.303Z"
   },
   {
    "duration": 20,
    "start_time": "2023-05-14T02:41:08.519Z"
   },
   {
    "duration": 212,
    "start_time": "2023-05-14T02:41:08.540Z"
   },
   {
    "duration": 10,
    "start_time": "2023-05-14T02:41:08.753Z"
   },
   {
    "duration": 7,
    "start_time": "2023-05-14T02:41:08.764Z"
   },
   {
    "duration": 28,
    "start_time": "2023-05-14T02:41:08.795Z"
   },
   {
    "duration": 14,
    "start_time": "2023-05-14T02:41:08.824Z"
   },
   {
    "duration": 48,
    "start_time": "2023-05-14T05:50:56.198Z"
   },
   {
    "duration": 1324,
    "start_time": "2023-05-14T05:53:00.008Z"
   },
   {
    "duration": 89,
    "start_time": "2023-05-14T05:53:01.334Z"
   },
   {
    "duration": 15,
    "start_time": "2023-05-14T05:53:01.425Z"
   },
   {
    "duration": 35,
    "start_time": "2023-05-14T05:53:01.442Z"
   },
   {
    "duration": 115,
    "start_time": "2023-05-14T05:53:01.479Z"
   },
   {
    "duration": 294,
    "start_time": "2023-05-14T05:53:01.596Z"
   },
   {
    "duration": 67,
    "start_time": "2023-05-14T05:53:01.892Z"
   },
   {
    "duration": 134,
    "start_time": "2023-05-14T05:53:01.961Z"
   },
   {
    "duration": 173,
    "start_time": "2023-05-14T05:53:02.097Z"
   },
   {
    "duration": 118,
    "start_time": "2023-05-14T05:53:02.273Z"
   },
   {
    "duration": 6,
    "start_time": "2023-05-14T05:53:02.393Z"
   },
   {
    "duration": 294,
    "start_time": "2023-05-14T05:53:02.401Z"
   },
   {
    "duration": 300,
    "start_time": "2023-05-14T05:53:02.697Z"
   },
   {
    "duration": 454,
    "start_time": "2023-05-14T05:53:02.998Z"
   },
   {
    "duration": 315,
    "start_time": "2023-05-14T05:53:03.454Z"
   },
   {
    "duration": 388,
    "start_time": "2023-05-14T05:53:03.771Z"
   },
   {
    "duration": 224,
    "start_time": "2023-05-14T05:53:04.161Z"
   },
   {
    "duration": 404,
    "start_time": "2023-05-14T05:53:04.386Z"
   },
   {
    "duration": 165,
    "start_time": "2023-05-14T05:53:04.791Z"
   },
   {
    "duration": 8,
    "start_time": "2023-05-14T05:53:04.958Z"
   },
   {
    "duration": 179,
    "start_time": "2023-05-14T05:53:04.968Z"
   },
   {
    "duration": 7,
    "start_time": "2023-05-14T05:53:05.149Z"
   },
   {
    "duration": 212,
    "start_time": "2023-05-14T05:53:05.158Z"
   },
   {
    "duration": 19,
    "start_time": "2023-05-14T05:53:05.372Z"
   },
   {
    "duration": 211,
    "start_time": "2023-05-14T05:53:05.393Z"
   },
   {
    "duration": 9,
    "start_time": "2023-05-14T05:53:05.606Z"
   },
   {
    "duration": 39,
    "start_time": "2023-05-14T05:53:05.625Z"
   },
   {
    "duration": 87,
    "start_time": "2023-05-14T05:53:05.667Z"
   },
   {
    "duration": 30,
    "start_time": "2023-05-14T05:53:05.755Z"
   },
   {
    "duration": 28,
    "start_time": "2023-05-14T06:11:20.755Z"
   },
   {
    "duration": 27,
    "start_time": "2023-05-14T06:11:28.431Z"
   },
   {
    "duration": 26,
    "start_time": "2023-05-14T06:11:35.833Z"
   },
   {
    "duration": 1013,
    "start_time": "2023-05-14T06:11:47.779Z"
   },
   {
    "duration": 26,
    "start_time": "2023-05-14T06:11:48.794Z"
   },
   {
    "duration": 93,
    "start_time": "2023-05-14T06:11:48.821Z"
   },
   {
    "duration": 0,
    "start_time": "2023-05-14T06:11:48.916Z"
   },
   {
    "duration": 0,
    "start_time": "2023-05-14T06:11:48.924Z"
   },
   {
    "duration": 0,
    "start_time": "2023-05-14T06:11:48.925Z"
   },
   {
    "duration": 0,
    "start_time": "2023-05-14T06:11:48.926Z"
   },
   {
    "duration": 0,
    "start_time": "2023-05-14T06:11:48.927Z"
   },
   {
    "duration": 0,
    "start_time": "2023-05-14T06:11:48.929Z"
   },
   {
    "duration": 0,
    "start_time": "2023-05-14T06:11:48.930Z"
   },
   {
    "duration": 0,
    "start_time": "2023-05-14T06:11:48.930Z"
   },
   {
    "duration": 0,
    "start_time": "2023-05-14T06:11:48.931Z"
   },
   {
    "duration": 0,
    "start_time": "2023-05-14T06:11:48.932Z"
   },
   {
    "duration": 0,
    "start_time": "2023-05-14T06:11:48.933Z"
   },
   {
    "duration": 0,
    "start_time": "2023-05-14T06:11:48.934Z"
   },
   {
    "duration": 0,
    "start_time": "2023-05-14T06:11:48.935Z"
   },
   {
    "duration": 0,
    "start_time": "2023-05-14T06:11:48.936Z"
   },
   {
    "duration": 0,
    "start_time": "2023-05-14T06:11:48.937Z"
   },
   {
    "duration": 0,
    "start_time": "2023-05-14T06:11:48.938Z"
   },
   {
    "duration": 0,
    "start_time": "2023-05-14T06:11:48.939Z"
   },
   {
    "duration": 0,
    "start_time": "2023-05-14T06:11:48.940Z"
   },
   {
    "duration": 0,
    "start_time": "2023-05-14T06:11:48.941Z"
   },
   {
    "duration": 0,
    "start_time": "2023-05-14T06:11:48.942Z"
   },
   {
    "duration": 0,
    "start_time": "2023-05-14T06:11:48.943Z"
   },
   {
    "duration": 0,
    "start_time": "2023-05-14T06:11:48.944Z"
   },
   {
    "duration": 0,
    "start_time": "2023-05-14T06:11:48.945Z"
   },
   {
    "duration": 0,
    "start_time": "2023-05-14T06:11:48.946Z"
   },
   {
    "duration": 0,
    "start_time": "2023-05-14T06:11:48.948Z"
   },
   {
    "duration": 0,
    "start_time": "2023-05-14T06:11:48.949Z"
   },
   {
    "duration": 35,
    "start_time": "2023-05-14T06:12:11.210Z"
   },
   {
    "duration": 13,
    "start_time": "2023-05-14T06:12:25.189Z"
   },
   {
    "duration": 13,
    "start_time": "2023-05-14T06:12:30.853Z"
   },
   {
    "duration": 37,
    "start_time": "2023-05-14T06:13:32.508Z"
   },
   {
    "duration": 1178,
    "start_time": "2023-05-14T06:16:50.141Z"
   },
   {
    "duration": 44,
    "start_time": "2023-05-14T06:16:51.324Z"
   },
   {
    "duration": 12,
    "start_time": "2023-05-14T06:16:51.370Z"
   },
   {
    "duration": 11,
    "start_time": "2023-05-14T06:16:51.384Z"
   },
   {
    "duration": 51,
    "start_time": "2023-05-14T06:16:51.397Z"
   },
   {
    "duration": 305,
    "start_time": "2023-05-14T06:16:51.450Z"
   },
   {
    "duration": 20,
    "start_time": "2023-05-14T06:16:51.756Z"
   },
   {
    "duration": 155,
    "start_time": "2023-05-14T06:16:51.778Z"
   },
   {
    "duration": 166,
    "start_time": "2023-05-14T06:16:51.936Z"
   },
   {
    "duration": 116,
    "start_time": "2023-05-14T06:16:52.104Z"
   },
   {
    "duration": 10,
    "start_time": "2023-05-14T06:16:52.225Z"
   },
   {
    "duration": 364,
    "start_time": "2023-05-14T06:16:52.236Z"
   },
   {
    "duration": 317,
    "start_time": "2023-05-14T06:16:52.602Z"
   },
   {
    "duration": 431,
    "start_time": "2023-05-14T06:16:52.931Z"
   },
   {
    "duration": 330,
    "start_time": "2023-05-14T06:16:53.365Z"
   },
   {
    "duration": 417,
    "start_time": "2023-05-14T06:16:53.698Z"
   },
   {
    "duration": 206,
    "start_time": "2023-05-14T06:16:54.124Z"
   },
   {
    "duration": 433,
    "start_time": "2023-05-14T06:16:54.332Z"
   },
   {
    "duration": 188,
    "start_time": "2023-05-14T06:16:54.767Z"
   },
   {
    "duration": 8,
    "start_time": "2023-05-14T06:16:54.957Z"
   },
   {
    "duration": 179,
    "start_time": "2023-05-14T06:16:54.967Z"
   },
   {
    "duration": 8,
    "start_time": "2023-05-14T06:16:55.149Z"
   },
   {
    "duration": 225,
    "start_time": "2023-05-14T06:16:55.158Z"
   },
   {
    "duration": 20,
    "start_time": "2023-05-14T06:16:55.385Z"
   },
   {
    "duration": 198,
    "start_time": "2023-05-14T06:16:55.407Z"
   },
   {
    "duration": 27,
    "start_time": "2023-05-14T06:16:55.607Z"
   },
   {
    "duration": 16,
    "start_time": "2023-05-14T06:16:55.637Z"
   },
   {
    "duration": 34,
    "start_time": "2023-05-14T06:16:55.654Z"
   },
   {
    "duration": 14,
    "start_time": "2023-05-14T06:16:55.690Z"
   },
   {
    "duration": 10,
    "start_time": "2023-05-14T06:18:33.361Z"
   },
   {
    "duration": 18,
    "start_time": "2023-05-14T06:19:05.032Z"
   },
   {
    "duration": 17,
    "start_time": "2023-05-14T06:19:41.107Z"
   },
   {
    "duration": 7,
    "start_time": "2023-05-14T06:20:17.491Z"
   },
   {
    "duration": 11,
    "start_time": "2023-05-14T06:20:34.649Z"
   },
   {
    "duration": 15,
    "start_time": "2023-05-14T06:22:02.930Z"
   },
   {
    "duration": 109,
    "start_time": "2023-05-14T06:35:12.884Z"
   },
   {
    "duration": 26,
    "start_time": "2023-05-14T06:35:28.545Z"
   },
   {
    "duration": 774,
    "start_time": "2023-05-14T06:36:23.434Z"
   },
   {
    "duration": 254,
    "start_time": "2023-05-14T06:36:43.332Z"
   },
   {
    "duration": 290,
    "start_time": "2023-05-14T06:37:53.956Z"
   },
   {
    "duration": 3,
    "start_time": "2023-05-14T06:38:03.106Z"
   },
   {
    "duration": 310,
    "start_time": "2023-05-14T07:06:47.484Z"
   },
   {
    "duration": 354,
    "start_time": "2023-05-14T07:13:24.842Z"
   },
   {
    "duration": 208,
    "start_time": "2023-05-14T07:13:29.454Z"
   },
   {
    "duration": 271,
    "start_time": "2023-05-14T07:13:35.174Z"
   },
   {
    "duration": 190,
    "start_time": "2023-05-14T07:13:40.816Z"
   },
   {
    "duration": 163,
    "start_time": "2023-05-14T07:13:45.149Z"
   },
   {
    "duration": 14,
    "start_time": "2023-05-14T07:22:20.114Z"
   },
   {
    "duration": 22,
    "start_time": "2023-05-14T07:24:50.438Z"
   },
   {
    "duration": 1304,
    "start_time": "2023-05-14T07:45:05.965Z"
   },
   {
    "duration": 107,
    "start_time": "2023-05-14T07:45:07.271Z"
   },
   {
    "duration": 17,
    "start_time": "2023-05-14T07:45:07.380Z"
   },
   {
    "duration": 26,
    "start_time": "2023-05-14T07:45:07.399Z"
   },
   {
    "duration": 141,
    "start_time": "2023-05-14T07:45:07.427Z"
   },
   {
    "duration": 11,
    "start_time": "2023-05-14T07:45:07.570Z"
   },
   {
    "duration": 17,
    "start_time": "2023-05-14T07:45:07.583Z"
   },
   {
    "duration": 74,
    "start_time": "2023-05-14T07:45:07.602Z"
   },
   {
    "duration": 9,
    "start_time": "2023-05-14T07:45:07.677Z"
   },
   {
    "duration": 56,
    "start_time": "2023-05-14T07:45:07.688Z"
   },
   {
    "duration": 41,
    "start_time": "2023-05-14T07:45:07.746Z"
   },
   {
    "duration": 177,
    "start_time": "2023-05-14T07:45:07.788Z"
   },
   {
    "duration": 115,
    "start_time": "2023-05-14T07:45:07.966Z"
   },
   {
    "duration": 15,
    "start_time": "2023-05-14T07:45:08.084Z"
   },
   {
    "duration": 283,
    "start_time": "2023-05-14T07:45:08.101Z"
   },
   {
    "duration": 198,
    "start_time": "2023-05-14T07:45:08.385Z"
   },
   {
    "duration": 368,
    "start_time": "2023-05-14T07:45:08.585Z"
   },
   {
    "duration": 190,
    "start_time": "2023-05-14T07:45:08.954Z"
   },
   {
    "duration": 187,
    "start_time": "2023-05-14T07:45:09.145Z"
   },
   {
    "duration": 267,
    "start_time": "2023-05-14T07:45:09.333Z"
   },
   {
    "duration": 131,
    "start_time": "2023-05-14T07:45:09.602Z"
   },
   {
    "duration": 129,
    "start_time": "2023-05-14T07:45:09.735Z"
   },
   {
    "duration": 6,
    "start_time": "2023-05-14T07:45:09.867Z"
   },
   {
    "duration": 192,
    "start_time": "2023-05-14T07:45:09.874Z"
   },
   {
    "duration": 7,
    "start_time": "2023-05-14T07:45:10.067Z"
   },
   {
    "duration": 204,
    "start_time": "2023-05-14T07:45:10.076Z"
   },
   {
    "duration": 19,
    "start_time": "2023-05-14T07:45:10.282Z"
   },
   {
    "duration": 36,
    "start_time": "2023-05-14T07:45:10.302Z"
   },
   {
    "duration": 10,
    "start_time": "2023-05-14T07:45:10.339Z"
   },
   {
    "duration": 162,
    "start_time": "2023-05-14T07:45:10.350Z"
   },
   {
    "duration": 10,
    "start_time": "2023-05-14T07:45:10.514Z"
   },
   {
    "duration": 114,
    "start_time": "2023-05-14T07:45:10.526Z"
   },
   {
    "duration": 0,
    "start_time": "2023-05-14T07:45:10.641Z"
   },
   {
    "duration": 0,
    "start_time": "2023-05-14T07:45:10.642Z"
   },
   {
    "duration": 8,
    "start_time": "2023-05-14T08:00:05.813Z"
   },
   {
    "duration": 28,
    "start_time": "2023-05-14T08:00:07.885Z"
   },
   {
    "duration": 13,
    "start_time": "2023-05-14T08:00:15.471Z"
   },
   {
    "duration": 1063,
    "start_time": "2023-05-14T08:00:20.795Z"
   },
   {
    "duration": 35,
    "start_time": "2023-05-14T08:00:21.860Z"
   },
   {
    "duration": 11,
    "start_time": "2023-05-14T08:00:21.897Z"
   },
   {
    "duration": 15,
    "start_time": "2023-05-14T08:00:21.910Z"
   },
   {
    "duration": 48,
    "start_time": "2023-05-14T08:00:21.927Z"
   },
   {
    "duration": 10,
    "start_time": "2023-05-14T08:00:21.977Z"
   },
   {
    "duration": 16,
    "start_time": "2023-05-14T08:00:21.988Z"
   },
   {
    "duration": 21,
    "start_time": "2023-05-14T08:00:22.006Z"
   },
   {
    "duration": 9,
    "start_time": "2023-05-14T08:00:22.029Z"
   },
   {
    "duration": 8,
    "start_time": "2023-05-14T08:00:22.039Z"
   },
   {
    "duration": 10,
    "start_time": "2023-05-14T08:00:22.049Z"
   },
   {
    "duration": 173,
    "start_time": "2023-05-14T08:00:22.061Z"
   },
   {
    "duration": 123,
    "start_time": "2023-05-14T08:00:22.236Z"
   },
   {
    "duration": 20,
    "start_time": "2023-05-14T08:00:22.362Z"
   },
   {
    "duration": 309,
    "start_time": "2023-05-14T08:00:22.384Z"
   },
   {
    "duration": 184,
    "start_time": "2023-05-14T08:00:22.694Z"
   },
   {
    "duration": 302,
    "start_time": "2023-05-14T08:00:22.880Z"
   },
   {
    "duration": 196,
    "start_time": "2023-05-14T08:00:23.184Z"
   },
   {
    "duration": 207,
    "start_time": "2023-05-14T08:00:23.382Z"
   },
   {
    "duration": 358,
    "start_time": "2023-05-14T08:00:23.591Z"
   },
   {
    "duration": 135,
    "start_time": "2023-05-14T08:00:23.951Z"
   },
   {
    "duration": 148,
    "start_time": "2023-05-14T08:00:24.088Z"
   },
   {
    "duration": 6,
    "start_time": "2023-05-14T08:00:24.239Z"
   },
   {
    "duration": 226,
    "start_time": "2023-05-14T08:00:24.247Z"
   },
   {
    "duration": 8,
    "start_time": "2023-05-14T08:00:24.475Z"
   },
   {
    "duration": 246,
    "start_time": "2023-05-14T08:00:24.485Z"
   },
   {
    "duration": 24,
    "start_time": "2023-05-14T08:00:24.733Z"
   },
   {
    "duration": 23,
    "start_time": "2023-05-14T08:00:24.759Z"
   },
   {
    "duration": 33,
    "start_time": "2023-05-14T08:00:24.784Z"
   },
   {
    "duration": 172,
    "start_time": "2023-05-14T08:00:24.819Z"
   },
   {
    "duration": 13,
    "start_time": "2023-05-14T08:00:24.992Z"
   },
   {
    "duration": 127,
    "start_time": "2023-05-14T08:00:25.007Z"
   },
   {
    "duration": 0,
    "start_time": "2023-05-14T08:00:25.136Z"
   },
   {
    "duration": 0,
    "start_time": "2023-05-14T08:00:25.137Z"
   },
   {
    "duration": 1374,
    "start_time": "2023-05-14T10:37:27.422Z"
   },
   {
    "duration": 93,
    "start_time": "2023-05-14T10:37:28.799Z"
   },
   {
    "duration": 13,
    "start_time": "2023-05-14T10:37:28.894Z"
   },
   {
    "duration": 12,
    "start_time": "2023-05-14T10:37:28.909Z"
   },
   {
    "duration": 108,
    "start_time": "2023-05-14T10:37:28.923Z"
   },
   {
    "duration": 11,
    "start_time": "2023-05-14T10:37:29.033Z"
   },
   {
    "duration": 22,
    "start_time": "2023-05-14T10:37:29.045Z"
   },
   {
    "duration": 77,
    "start_time": "2023-05-14T10:37:29.068Z"
   },
   {
    "duration": 10,
    "start_time": "2023-05-14T10:37:29.147Z"
   },
   {
    "duration": 24,
    "start_time": "2023-05-14T10:37:29.160Z"
   },
   {
    "duration": 16,
    "start_time": "2023-05-14T10:37:29.186Z"
   },
   {
    "duration": 183,
    "start_time": "2023-05-14T10:37:29.204Z"
   },
   {
    "duration": 133,
    "start_time": "2023-05-14T10:37:29.389Z"
   },
   {
    "duration": 26,
    "start_time": "2023-05-14T10:37:29.524Z"
   },
   {
    "duration": 305,
    "start_time": "2023-05-14T10:37:29.552Z"
   },
   {
    "duration": 211,
    "start_time": "2023-05-14T10:37:29.859Z"
   },
   {
    "duration": 336,
    "start_time": "2023-05-14T10:37:30.072Z"
   },
   {
    "duration": 220,
    "start_time": "2023-05-14T10:37:30.409Z"
   },
   {
    "duration": 217,
    "start_time": "2023-05-14T10:37:30.631Z"
   },
   {
    "duration": 307,
    "start_time": "2023-05-14T10:37:30.850Z"
   },
   {
    "duration": 154,
    "start_time": "2023-05-14T10:37:31.159Z"
   },
   {
    "duration": 157,
    "start_time": "2023-05-14T10:37:31.316Z"
   },
   {
    "duration": 8,
    "start_time": "2023-05-14T10:37:31.475Z"
   },
   {
    "duration": 258,
    "start_time": "2023-05-14T10:37:31.484Z"
   },
   {
    "duration": 8,
    "start_time": "2023-05-14T10:37:31.744Z"
   },
   {
    "duration": 220,
    "start_time": "2023-05-14T10:37:31.754Z"
   },
   {
    "duration": 22,
    "start_time": "2023-05-14T10:37:31.976Z"
   },
   {
    "duration": 33,
    "start_time": "2023-05-14T10:37:32.001Z"
   },
   {
    "duration": 12,
    "start_time": "2023-05-14T10:37:32.046Z"
   },
   {
    "duration": 188,
    "start_time": "2023-05-14T10:37:32.060Z"
   },
   {
    "duration": 11,
    "start_time": "2023-05-14T10:37:32.250Z"
   },
   {
    "duration": 13,
    "start_time": "2023-05-14T10:37:32.262Z"
   },
   {
    "duration": 61,
    "start_time": "2023-05-14T10:37:32.277Z"
   },
   {
    "duration": 14,
    "start_time": "2023-05-14T10:37:32.340Z"
   },
   {
    "duration": 10,
    "start_time": "2023-05-14T10:38:38.695Z"
   },
   {
    "duration": 30,
    "start_time": "2023-05-14T10:38:40.891Z"
   },
   {
    "duration": 305,
    "start_time": "2023-05-14T10:46:38.262Z"
   },
   {
    "duration": 152,
    "start_time": "2023-05-14T10:46:53.391Z"
   },
   {
    "duration": 161,
    "start_time": "2023-05-14T10:47:08.192Z"
   },
   {
    "duration": 193,
    "start_time": "2023-05-14T10:47:20.971Z"
   },
   {
    "duration": 159,
    "start_time": "2023-05-14T10:48:09.899Z"
   },
   {
    "duration": 154,
    "start_time": "2023-05-14T10:48:15.396Z"
   },
   {
    "duration": 150,
    "start_time": "2023-05-14T10:48:18.487Z"
   },
   {
    "duration": 55,
    "start_time": "2023-05-14T12:14:05.993Z"
   },
   {
    "duration": 1546,
    "start_time": "2023-05-14T12:14:35.499Z"
   },
   {
    "duration": 95,
    "start_time": "2023-05-14T12:14:37.047Z"
   },
   {
    "duration": 20,
    "start_time": "2023-05-14T12:14:37.144Z"
   },
   {
    "duration": 20,
    "start_time": "2023-05-14T12:14:37.167Z"
   },
   {
    "duration": 105,
    "start_time": "2023-05-14T12:14:37.189Z"
   },
   {
    "duration": 11,
    "start_time": "2023-05-14T12:14:37.296Z"
   },
   {
    "duration": 28,
    "start_time": "2023-05-14T12:14:37.310Z"
   },
   {
    "duration": 96,
    "start_time": "2023-05-14T12:14:37.340Z"
   },
   {
    "duration": 13,
    "start_time": "2023-05-14T12:14:37.438Z"
   },
   {
    "duration": 12,
    "start_time": "2023-05-14T12:14:37.453Z"
   },
   {
    "duration": 17,
    "start_time": "2023-05-14T12:14:37.467Z"
   },
   {
    "duration": 195,
    "start_time": "2023-05-14T12:14:37.486Z"
   },
   {
    "duration": 144,
    "start_time": "2023-05-14T12:14:37.684Z"
   },
   {
    "duration": 19,
    "start_time": "2023-05-14T12:14:37.833Z"
   },
   {
    "duration": 337,
    "start_time": "2023-05-14T12:14:37.854Z"
   },
   {
    "duration": 223,
    "start_time": "2023-05-14T12:14:38.197Z"
   },
   {
    "duration": 385,
    "start_time": "2023-05-14T12:14:38.422Z"
   },
   {
    "duration": 237,
    "start_time": "2023-05-14T12:14:38.809Z"
   },
   {
    "duration": 320,
    "start_time": "2023-05-14T12:14:39.048Z"
   },
   {
    "duration": 153,
    "start_time": "2023-05-14T12:14:39.372Z"
   },
   {
    "duration": 148,
    "start_time": "2023-05-14T12:14:39.527Z"
   },
   {
    "duration": 22,
    "start_time": "2023-05-14T12:14:39.678Z"
   },
   {
    "duration": 171,
    "start_time": "2023-05-14T12:14:39.702Z"
   },
   {
    "duration": 236,
    "start_time": "2023-05-14T12:14:39.875Z"
   },
   {
    "duration": 8,
    "start_time": "2023-05-14T12:14:40.112Z"
   },
   {
    "duration": 17,
    "start_time": "2023-05-14T12:14:40.121Z"
   },
   {
    "duration": 14,
    "start_time": "2023-05-14T12:14:40.140Z"
   },
   {
    "duration": 34,
    "start_time": "2023-05-14T12:14:40.156Z"
   },
   {
    "duration": 15,
    "start_time": "2023-05-14T12:14:40.192Z"
   },
   {
    "duration": 192,
    "start_time": "2023-05-14T12:14:40.208Z"
   },
   {
    "duration": 11,
    "start_time": "2023-05-14T12:14:40.402Z"
   },
   {
    "duration": 10,
    "start_time": "2023-05-14T12:14:40.415Z"
   },
   {
    "duration": 31,
    "start_time": "2023-05-14T12:14:40.427Z"
   },
   {
    "duration": 41,
    "start_time": "2023-05-14T12:14:40.460Z"
   },
   {
    "duration": 12,
    "start_time": "2023-05-14T12:18:36.940Z"
   },
   {
    "duration": 33,
    "start_time": "2023-05-14T12:18:38.854Z"
   },
   {
    "duration": 1179,
    "start_time": "2023-05-14T12:56:33.126Z"
   },
   {
    "duration": 62,
    "start_time": "2023-05-14T12:56:34.306Z"
   },
   {
    "duration": 13,
    "start_time": "2023-05-14T12:56:34.370Z"
   },
   {
    "duration": 14,
    "start_time": "2023-05-14T12:56:34.386Z"
   },
   {
    "duration": 65,
    "start_time": "2023-05-14T12:56:34.402Z"
   },
   {
    "duration": 14,
    "start_time": "2023-05-14T12:56:34.469Z"
   },
   {
    "duration": 30,
    "start_time": "2023-05-14T12:56:34.485Z"
   },
   {
    "duration": 57,
    "start_time": "2023-05-14T12:56:34.516Z"
   },
   {
    "duration": 10,
    "start_time": "2023-05-14T12:56:34.575Z"
   },
   {
    "duration": 19,
    "start_time": "2023-05-14T12:56:34.587Z"
   },
   {
    "duration": 20,
    "start_time": "2023-05-14T12:56:34.607Z"
   },
   {
    "duration": 223,
    "start_time": "2023-05-14T12:56:34.629Z"
   },
   {
    "duration": 156,
    "start_time": "2023-05-14T12:56:34.858Z"
   },
   {
    "duration": 24,
    "start_time": "2023-05-14T12:56:35.016Z"
   },
   {
    "duration": 411,
    "start_time": "2023-05-14T12:56:35.042Z"
   },
   {
    "duration": 237,
    "start_time": "2023-05-14T12:56:35.455Z"
   },
   {
    "duration": 340,
    "start_time": "2023-05-14T12:56:35.694Z"
   },
   {
    "duration": 247,
    "start_time": "2023-05-14T12:56:36.039Z"
   },
   {
    "duration": 304,
    "start_time": "2023-05-14T12:56:36.287Z"
   },
   {
    "duration": 150,
    "start_time": "2023-05-14T12:56:36.592Z"
   },
   {
    "duration": 160,
    "start_time": "2023-05-14T12:56:36.744Z"
   },
   {
    "duration": 7,
    "start_time": "2023-05-14T12:56:36.906Z"
   },
   {
    "duration": 181,
    "start_time": "2023-05-14T12:56:36.926Z"
   },
   {
    "duration": 241,
    "start_time": "2023-05-14T12:56:37.109Z"
   },
   {
    "duration": 7,
    "start_time": "2023-05-14T12:56:37.352Z"
   },
   {
    "duration": 8,
    "start_time": "2023-05-14T12:56:37.361Z"
   },
   {
    "duration": 17,
    "start_time": "2023-05-14T12:56:37.371Z"
   },
   {
    "duration": 59,
    "start_time": "2023-05-14T12:56:37.391Z"
   },
   {
    "duration": 19,
    "start_time": "2023-05-14T12:56:37.452Z"
   },
   {
    "duration": 198,
    "start_time": "2023-05-14T12:56:37.473Z"
   },
   {
    "duration": 10,
    "start_time": "2023-05-14T12:56:37.673Z"
   },
   {
    "duration": 9,
    "start_time": "2023-05-14T12:56:37.685Z"
   },
   {
    "duration": 65,
    "start_time": "2023-05-14T12:56:37.695Z"
   },
   {
    "duration": 15,
    "start_time": "2023-05-14T12:56:37.761Z"
   },
   {
    "duration": 155,
    "start_time": "2023-05-14T12:58:30.881Z"
   },
   {
    "duration": 158,
    "start_time": "2023-05-14T12:58:34.545Z"
   },
   {
    "duration": 184,
    "start_time": "2023-05-14T13:29:55.737Z"
   },
   {
    "duration": 217,
    "start_time": "2023-05-14T13:34:28.355Z"
   },
   {
    "duration": 406,
    "start_time": "2023-05-14T13:35:43.177Z"
   },
   {
    "duration": 407,
    "start_time": "2023-05-14T13:36:24.076Z"
   },
   {
    "duration": 1279,
    "start_time": "2023-05-14T13:48:29.523Z"
   },
   {
    "duration": 40,
    "start_time": "2023-05-14T13:48:30.804Z"
   },
   {
    "duration": 30,
    "start_time": "2023-05-14T13:48:30.846Z"
   },
   {
    "duration": 48,
    "start_time": "2023-05-14T13:48:30.879Z"
   },
   {
    "duration": 76,
    "start_time": "2023-05-14T13:48:30.929Z"
   },
   {
    "duration": 13,
    "start_time": "2023-05-14T13:48:31.007Z"
   },
   {
    "duration": 44,
    "start_time": "2023-05-14T13:48:31.022Z"
   },
   {
    "duration": 77,
    "start_time": "2023-05-14T13:48:31.067Z"
   },
   {
    "duration": 56,
    "start_time": "2023-05-14T13:48:31.146Z"
   },
   {
    "duration": 67,
    "start_time": "2023-05-14T13:48:31.205Z"
   },
   {
    "duration": 68,
    "start_time": "2023-05-14T13:48:31.274Z"
   },
   {
    "duration": 236,
    "start_time": "2023-05-14T13:48:31.344Z"
   },
   {
    "duration": 166,
    "start_time": "2023-05-14T13:48:31.583Z"
   },
   {
    "duration": 19,
    "start_time": "2023-05-14T13:48:31.752Z"
   },
   {
    "duration": 336,
    "start_time": "2023-05-14T13:48:31.773Z"
   },
   {
    "duration": 246,
    "start_time": "2023-05-14T13:48:32.111Z"
   },
   {
    "duration": 387,
    "start_time": "2023-05-14T13:48:32.359Z"
   },
   {
    "duration": 1233,
    "start_time": "2023-05-14T14:06:58.879Z"
   },
   {
    "duration": 39,
    "start_time": "2023-05-14T14:07:00.114Z"
   },
   {
    "duration": 51,
    "start_time": "2023-05-14T14:07:00.155Z"
   },
   {
    "duration": 61,
    "start_time": "2023-05-14T14:07:00.209Z"
   },
   {
    "duration": 102,
    "start_time": "2023-05-14T14:07:00.272Z"
   },
   {
    "duration": 32,
    "start_time": "2023-05-14T14:07:00.376Z"
   },
   {
    "duration": 158,
    "start_time": "2023-05-14T14:07:00.411Z"
   },
   {
    "duration": 150,
    "start_time": "2023-05-14T14:07:00.572Z"
   },
   {
    "duration": 74,
    "start_time": "2023-05-14T14:07:00.724Z"
   },
   {
    "duration": 78,
    "start_time": "2023-05-14T14:07:00.802Z"
   },
   {
    "duration": 92,
    "start_time": "2023-05-14T14:07:00.882Z"
   },
   {
    "duration": 331,
    "start_time": "2023-05-14T14:07:00.976Z"
   },
   {
    "duration": 149,
    "start_time": "2023-05-14T14:07:01.310Z"
   },
   {
    "duration": 20,
    "start_time": "2023-05-14T14:07:01.462Z"
   },
   {
    "duration": 406,
    "start_time": "2023-05-14T14:07:01.484Z"
   },
   {
    "duration": 282,
    "start_time": "2023-05-14T14:07:01.892Z"
   },
   {
    "duration": 351,
    "start_time": "2023-05-14T14:07:02.175Z"
   },
   {
    "duration": 296,
    "start_time": "2023-05-14T14:07:02.528Z"
   },
   {
    "duration": 347,
    "start_time": "2023-05-14T14:07:02.827Z"
   },
   {
    "duration": 188,
    "start_time": "2023-05-14T14:07:03.176Z"
   },
   {
    "duration": 182,
    "start_time": "2023-05-14T14:07:03.366Z"
   },
   {
    "duration": 9,
    "start_time": "2023-05-14T14:07:03.550Z"
   },
   {
    "duration": 254,
    "start_time": "2023-05-14T14:07:03.561Z"
   },
   {
    "duration": 14,
    "start_time": "2023-05-14T14:07:03.817Z"
   },
   {
    "duration": 43,
    "start_time": "2023-05-14T14:07:03.840Z"
   },
   {
    "duration": 39,
    "start_time": "2023-05-14T14:07:03.886Z"
   },
   {
    "duration": 136,
    "start_time": "2023-05-14T14:07:03.927Z"
   },
   {
    "duration": 53,
    "start_time": "2023-05-14T14:07:04.067Z"
   },
   {
    "duration": 212,
    "start_time": "2023-05-14T14:07:04.121Z"
   },
   {
    "duration": 12,
    "start_time": "2023-05-14T14:07:04.334Z"
   },
   {
    "duration": 128,
    "start_time": "2023-05-14T14:07:04.348Z"
   },
   {
    "duration": 67,
    "start_time": "2023-05-14T14:07:04.477Z"
   },
   {
    "duration": 55,
    "start_time": "2023-05-14T14:07:04.546Z"
   }
  ],
  "kernelspec": {
   "display_name": "Python 3 (ipykernel)",
   "language": "python",
   "name": "python3"
  },
  "language_info": {
   "codemirror_mode": {
    "name": "ipython",
    "version": 3
   },
   "file_extension": ".py",
   "mimetype": "text/x-python",
   "name": "python",
   "nbconvert_exporter": "python",
   "pygments_lexer": "ipython3",
   "version": "3.9.12"
  },
  "toc": {
   "base_numbering": 1,
   "nav_menu": {},
   "number_sections": true,
   "sideBar": true,
   "skip_h1_title": true,
   "title_cell": "Table of Contents",
   "title_sidebar": "Contents",
   "toc_cell": false,
   "toc_position": {},
   "toc_section_display": true,
   "toc_window_display": false
  }
 },
 "nbformat": 4,
 "nbformat_minor": 2
}
